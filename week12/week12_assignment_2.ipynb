{
 "cells": [
  {
   "cell_type": "markdown",
   "metadata": {
    "nbgrader": {
     "grade": false,
     "grade_id": "intro",
     "locked": true,
     "schema_version": 1,
     "solution": false
    }
   },
   "source": [
    "# Week 12 Assignment\n",
    "\n",
    "# PART 1 - Pivoting Data for Fun!\n",
    "\n",
    "In this exercise, we're going to work with data about condemned buildings in St. Louis.  This data set is in `/data/condemn.txt` in CSV format."
   ]
  },
  {
   "cell_type": "markdown",
   "metadata": {
    "nbgrader": {
     "grade": false,
     "grade_id": "q1-intro",
     "locked": true,
     "schema_version": 1,
     "solution": false
    }
   },
   "source": [
    "## STEP 1: Load and Filter data\n",
    "\n",
    "For this analysis, we want to look only at a relevent range of years and only years that are in teh past.  So, let's first take a look at the data between 1986 and 2014 (inclusive of those dates).\n",
    "\n",
    "At the end of this step, you should have a data frame loaded from the condemnations file and filtered down to only the data between 1986 and 2014.  Put that into a dataframe named `condemnations`\n",
    "\n",
    "**Some helpful notes:**\n",
    "* Use the columns `InspectDate` to filter this date range"
   ]
  },
  {
   "cell_type": "code",
   "execution_count": 1,
   "metadata": {
    "nbgrader": {
     "grade": false,
     "grade_id": "q1-solution",
     "locked": false,
     "schema_version": 1,
     "solution": true
    }
   },
   "outputs": [
    {
     "name": "stderr",
     "output_type": "stream",
     "text": [
      "/opt/tljh/user/lib/python3.6/site-packages/IPython/core/interactiveshell.py:3051: DtypeWarning: Columns (2,8,35,36) have mixed types.Specify dtype option on import or set low_memory=False.\n",
      "  interactivity=interactivity, compiler=compiler, result=result)\n"
     ]
    },
    {
     "data": {
      "text/plain": [
       "(32586, 40)"
      ]
     },
     "execution_count": 1,
     "metadata": {},
     "output_type": "execute_result"
    }
   ],
   "source": [
    "%matplotlib inline\n",
    "import pandas as pd\n",
    "\n",
    "condemnations = pd.read_csv('/data/condemn.txt')\n",
    "condemnations.shape"
   ]
  },
  {
   "cell_type": "code",
   "execution_count": 2,
   "metadata": {},
   "outputs": [
    {
     "data": {
      "text/html": [
       "<div>\n",
       "<style scoped>\n",
       "    .dataframe tbody tr th:only-of-type {\n",
       "        vertical-align: middle;\n",
       "    }\n",
       "\n",
       "    .dataframe tbody tr th {\n",
       "        vertical-align: top;\n",
       "    }\n",
       "\n",
       "    .dataframe thead th {\n",
       "        text-align: right;\n",
       "    }\n",
       "</style>\n",
       "<table border=\"1\" class=\"dataframe\">\n",
       "  <thead>\n",
       "    <tr style=\"text-align: right;\">\n",
       "      <th></th>\n",
       "      <th>AcctNum</th>\n",
       "      <th>PrclErr</th>\n",
       "      <th>AddrAdjusted</th>\n",
       "      <th>CityBlock</th>\n",
       "      <th>Parcel</th>\n",
       "      <th>OwnerCode</th>\n",
       "      <th>Handle</th>\n",
       "      <th>Parcel9</th>\n",
       "      <th>AddrNum</th>\n",
       "      <th>AddrSuf</th>\n",
       "      <th>StDir</th>\n",
       "      <th>StName</th>\n",
       "      <th>StType</th>\n",
       "      <th>InspectDate</th>\n",
       "      <th>InspectType</th>\n",
       "      <th>CondLetterSent</th>\n",
       "      <th>Status</th>\n",
       "      <th>OwnerCompany</th>\n",
       "      <th>OwnerName</th>\n",
       "      <th>OwnerAddr</th>\n",
       "      <th>OwnerCity</th>\n",
       "      <th>OwnerState</th>\n",
       "      <th>OwnerZIP</th>\n",
       "      <th>GeoCityBLockPart</th>\n",
       "      <th>Ward00</th>\n",
       "      <th>Precinct02</th>\n",
       "      <th>Nbrhd</th>\n",
       "      <th>CDADist</th>\n",
       "      <th>CDASubDist</th>\n",
       "      <th>PoliceDist</th>\n",
       "      <th>CensBlock00</th>\n",
       "      <th>AsrNbrhd</th>\n",
       "      <th>ImpactCode</th>\n",
       "      <th>NLC</th>\n",
       "      <th>Parity</th>\n",
       "      <th>Inspector</th>\n",
       "      <th>Images</th>\n",
       "      <th>FirstDate</th>\n",
       "      <th>LastDate</th>\n",
       "      <th>UpDateGeo</th>\n",
       "    </tr>\n",
       "  </thead>\n",
       "  <tbody>\n",
       "    <tr>\n",
       "      <th>0</th>\n",
       "      <td>1.0</td>\n",
       "      <td>0.0</td>\n",
       "      <td>False</td>\n",
       "      <td>3652.00</td>\n",
       "      <td>341.0</td>\n",
       "      <td>1.0</td>\n",
       "      <td>1.365200e+10</td>\n",
       "      <td>365200341.0</td>\n",
       "      <td>4049</td>\n",
       "      <td></td>\n",
       "      <td></td>\n",
       "      <td>COTTAGE</td>\n",
       "      <td>AV</td>\n",
       "      <td>1986-07-10 00:00:00</td>\n",
       "      <td>CB</td>\n",
       "      <td>1986-07-15 00:00:00</td>\n",
       "      <td>W</td>\n",
       "      <td>NaN</td>\n",
       "      <td>Hughie Richard Naylor</td>\n",
       "      <td>5080 Geraldine</td>\n",
       "      <td>St. Louis</td>\n",
       "      <td>MO</td>\n",
       "      <td>63115</td>\n",
       "      <td>3652.00</td>\n",
       "      <td>4.0</td>\n",
       "      <td>3.0</td>\n",
       "      <td>56.0</td>\n",
       "      <td>13.0</td>\n",
       "      <td>26.0</td>\n",
       "      <td>5.0</td>\n",
       "      <td>1114.4006</td>\n",
       "      <td>309.0</td>\n",
       "      <td>0.0</td>\n",
       "      <td>123.0</td>\n",
       "      <td>O</td>\n",
       "      <td>NaN</td>\n",
       "      <td>NaN</td>\n",
       "      <td>1987-08-07 00:00:00</td>\n",
       "      <td>2019-01-04 00:00:00</td>\n",
       "      <td>NaN</td>\n",
       "    </tr>\n",
       "    <tr>\n",
       "      <th>1</th>\n",
       "      <td>2.0</td>\n",
       "      <td>0.0</td>\n",
       "      <td>False</td>\n",
       "      <td>666.00</td>\n",
       "      <td>80.0</td>\n",
       "      <td>0.0</td>\n",
       "      <td>1.066600e+10</td>\n",
       "      <td>66600080.0</td>\n",
       "      <td>906</td>\n",
       "      <td></td>\n",
       "      <td></td>\n",
       "      <td>GEYER</td>\n",
       "      <td>AV</td>\n",
       "      <td>2009-07-23 00:00:00</td>\n",
       "      <td>CB</td>\n",
       "      <td>2009-07-23 00:00:00</td>\n",
       "      <td>B</td>\n",
       "      <td>NaN</td>\n",
       "      <td>Ganz, Joseph R</td>\n",
       "      <td>906 Geyer Ave</td>\n",
       "      <td>St. Louis</td>\n",
       "      <td>MO</td>\n",
       "      <td>63104</td>\n",
       "      <td>666.00</td>\n",
       "      <td>7.0</td>\n",
       "      <td>12.0</td>\n",
       "      <td>21.0</td>\n",
       "      <td>8.0</td>\n",
       "      <td>16.0</td>\n",
       "      <td>3.0</td>\n",
       "      <td>1234.2003</td>\n",
       "      <td>248.0</td>\n",
       "      <td>0.0</td>\n",
       "      <td>104.0</td>\n",
       "      <td>E</td>\n",
       "      <td>NaN</td>\n",
       "      <td>NaN</td>\n",
       "      <td>1988-06-28 00:00:00</td>\n",
       "      <td>2019-01-04 00:00:00</td>\n",
       "      <td>NaN</td>\n",
       "    </tr>\n",
       "    <tr>\n",
       "      <th>2</th>\n",
       "      <td>3.0</td>\n",
       "      <td>0.0</td>\n",
       "      <td>False</td>\n",
       "      <td>3913.01</td>\n",
       "      <td>120.0</td>\n",
       "      <td>1.0</td>\n",
       "      <td>1.391301e+10</td>\n",
       "      <td>391301120.0</td>\n",
       "      <td>4218</td>\n",
       "      <td></td>\n",
       "      <td></td>\n",
       "      <td>MARYLAND</td>\n",
       "      <td>AV</td>\n",
       "      <td>2003-08-06 00:00:00</td>\n",
       "      <td>CD</td>\n",
       "      <td>2003-08-12 00:00:00</td>\n",
       "      <td>NaN</td>\n",
       "      <td>NaN</td>\n",
       "      <td>Charles Bass</td>\n",
       "      <td>5015 Cates Ave.</td>\n",
       "      <td>St. Louis</td>\n",
       "      <td>MO</td>\n",
       "      <td>63108</td>\n",
       "      <td>3913.01</td>\n",
       "      <td>18.0</td>\n",
       "      <td>1.0</td>\n",
       "      <td>38.0</td>\n",
       "      <td>11.0</td>\n",
       "      <td>23.0</td>\n",
       "      <td>5.0</td>\n",
       "      <td>1191.1004</td>\n",
       "      <td>230.0</td>\n",
       "      <td>0.0</td>\n",
       "      <td>210.0</td>\n",
       "      <td>E</td>\n",
       "      <td>NaN</td>\n",
       "      <td>NaN</td>\n",
       "      <td>1990-08-28 00:00:00</td>\n",
       "      <td>2019-01-04 00:00:00</td>\n",
       "      <td>NaN</td>\n",
       "    </tr>\n",
       "    <tr>\n",
       "      <th>3</th>\n",
       "      <td>4.0</td>\n",
       "      <td>2.0</td>\n",
       "      <td>False</td>\n",
       "      <td>3744.00</td>\n",
       "      <td>145.0</td>\n",
       "      <td>0.0</td>\n",
       "      <td>1.374400e+10</td>\n",
       "      <td>374400145.0</td>\n",
       "      <td>4145</td>\n",
       "      <td></td>\n",
       "      <td></td>\n",
       "      <td>COOK</td>\n",
       "      <td>AV</td>\n",
       "      <td>1996-06-17 00:00:00</td>\n",
       "      <td>CD</td>\n",
       "      <td>1996-06-24 00:00:00</td>\n",
       "      <td>W</td>\n",
       "      <td>Richard Burruss Ministries</td>\n",
       "      <td>Richard Burruss, Pres.</td>\n",
       "      <td>4100 Page Blvd.</td>\n",
       "      <td>St. Louis</td>\n",
       "      <td>MO</td>\n",
       "      <td>63113</td>\n",
       "      <td>3744.00</td>\n",
       "      <td>19.0</td>\n",
       "      <td>13.0</td>\n",
       "      <td>58.0</td>\n",
       "      <td>13.0</td>\n",
       "      <td>25.0</td>\n",
       "      <td>5.0</td>\n",
       "      <td>1111.4000</td>\n",
       "      <td>231.0</td>\n",
       "      <td>0.0</td>\n",
       "      <td>92.0</td>\n",
       "      <td>O</td>\n",
       "      <td>NaN</td>\n",
       "      <td>NaN</td>\n",
       "      <td>1990-06-12 00:00:00</td>\n",
       "      <td>2019-01-04 00:00:00</td>\n",
       "      <td>NaN</td>\n",
       "    </tr>\n",
       "    <tr>\n",
       "      <th>4</th>\n",
       "      <td>5.0</td>\n",
       "      <td>0.0</td>\n",
       "      <td>False</td>\n",
       "      <td>1103.00</td>\n",
       "      <td>30.0</td>\n",
       "      <td>0.0</td>\n",
       "      <td>1.110300e+10</td>\n",
       "      <td>110300030.0</td>\n",
       "      <td>1936</td>\n",
       "      <td></td>\n",
       "      <td></td>\n",
       "      <td>ST LOUIS</td>\n",
       "      <td>AV</td>\n",
       "      <td>2006-12-20 00:00:00</td>\n",
       "      <td>CD</td>\n",
       "      <td>2006-12-27 00:00:00</td>\n",
       "      <td>NaN</td>\n",
       "      <td>N &amp; G ventures LC</td>\n",
       "      <td>Harvey Noble, Owner</td>\n",
       "      <td>515 Olive St.Ste.1608</td>\n",
       "      <td>St. Louis</td>\n",
       "      <td>MO</td>\n",
       "      <td>63101</td>\n",
       "      <td>1103.00</td>\n",
       "      <td>5.0</td>\n",
       "      <td>13.0</td>\n",
       "      <td>60.0</td>\n",
       "      <td>14.0</td>\n",
       "      <td>6.0</td>\n",
       "      <td>4.0</td>\n",
       "      <td>1266.5001</td>\n",
       "      <td>318.0</td>\n",
       "      <td>0.0</td>\n",
       "      <td>5.0</td>\n",
       "      <td>E</td>\n",
       "      <td>NaN</td>\n",
       "      <td>NaN</td>\n",
       "      <td>2006-12-21 00:00:00</td>\n",
       "      <td>2019-01-04 00:00:00</td>\n",
       "      <td>NaN</td>\n",
       "    </tr>\n",
       "  </tbody>\n",
       "</table>\n",
       "</div>"
      ],
      "text/plain": [
       "   AcctNum  PrclErr AddrAdjusted  CityBlock  Parcel  OwnerCode        Handle  \\\n",
       "0      1.0      0.0        False    3652.00   341.0        1.0  1.365200e+10   \n",
       "1      2.0      0.0        False     666.00    80.0        0.0  1.066600e+10   \n",
       "2      3.0      0.0        False    3913.01   120.0        1.0  1.391301e+10   \n",
       "3      4.0      2.0        False    3744.00   145.0        0.0  1.374400e+10   \n",
       "4      5.0      0.0        False    1103.00    30.0        0.0  1.110300e+10   \n",
       "\n",
       "       Parcel9 AddrNum AddrSuf StDir    StName StType          InspectDate  \\\n",
       "0  365200341.0    4049                 COTTAGE     AV  1986-07-10 00:00:00   \n",
       "1   66600080.0     906                   GEYER     AV  2009-07-23 00:00:00   \n",
       "2  391301120.0    4218                MARYLAND     AV  2003-08-06 00:00:00   \n",
       "3  374400145.0    4145                    COOK     AV  1996-06-17 00:00:00   \n",
       "4  110300030.0    1936                ST LOUIS     AV  2006-12-20 00:00:00   \n",
       "\n",
       "  InspectType       CondLetterSent Status                OwnerCompany  \\\n",
       "0          CB  1986-07-15 00:00:00      W                         NaN   \n",
       "1          CB  2009-07-23 00:00:00      B                         NaN   \n",
       "2          CD  2003-08-12 00:00:00    NaN                         NaN   \n",
       "3          CD  1996-06-24 00:00:00      W  Richard Burruss Ministries   \n",
       "4          CD  2006-12-27 00:00:00    NaN           N & G ventures LC   \n",
       "\n",
       "                OwnerName              OwnerAddr  OwnerCity OwnerState  \\\n",
       "0   Hughie Richard Naylor         5080 Geraldine  St. Louis         MO   \n",
       "1          Ganz, Joseph R          906 Geyer Ave  St. Louis         MO   \n",
       "2            Charles Bass        5015 Cates Ave.  St. Louis         MO   \n",
       "3  Richard Burruss, Pres.        4100 Page Blvd.  St. Louis         MO   \n",
       "4     Harvey Noble, Owner  515 Olive St.Ste.1608  St. Louis         MO   \n",
       "\n",
       "  OwnerZIP  GeoCityBLockPart  Ward00  Precinct02  Nbrhd  CDADist  CDASubDist  \\\n",
       "0    63115           3652.00     4.0         3.0   56.0     13.0        26.0   \n",
       "1    63104            666.00     7.0        12.0   21.0      8.0        16.0   \n",
       "2    63108           3913.01    18.0         1.0   38.0     11.0        23.0   \n",
       "3    63113           3744.00    19.0        13.0   58.0     13.0        25.0   \n",
       "4    63101           1103.00     5.0        13.0   60.0     14.0         6.0   \n",
       "\n",
       "   PoliceDist  CensBlock00  AsrNbrhd  ImpactCode    NLC Parity Inspector  \\\n",
       "0         5.0    1114.4006     309.0         0.0  123.0      O       NaN   \n",
       "1         3.0    1234.2003     248.0         0.0  104.0      E       NaN   \n",
       "2         5.0    1191.1004     230.0         0.0  210.0      E       NaN   \n",
       "3         5.0    1111.4000     231.0         0.0   92.0      O       NaN   \n",
       "4         4.0    1266.5001     318.0         0.0    5.0      E       NaN   \n",
       "\n",
       "  Images            FirstDate             LastDate UpDateGeo  \n",
       "0    NaN  1987-08-07 00:00:00  2019-01-04 00:00:00       NaN  \n",
       "1    NaN  1988-06-28 00:00:00  2019-01-04 00:00:00       NaN  \n",
       "2    NaN  1990-08-28 00:00:00  2019-01-04 00:00:00       NaN  \n",
       "3    NaN  1990-06-12 00:00:00  2019-01-04 00:00:00       NaN  \n",
       "4    NaN  2006-12-21 00:00:00  2019-01-04 00:00:00       NaN  "
      ]
     },
     "execution_count": 2,
     "metadata": {},
     "output_type": "execute_result"
    }
   ],
   "source": [
    "pd.set_option('display.max_columns', None)\n",
    "\n",
    "condemnations.head()"
   ]
  },
  {
   "cell_type": "code",
   "execution_count": 3,
   "metadata": {},
   "outputs": [
    {
     "name": "stdout",
     "output_type": "stream",
     "text": [
      "<class 'pandas.core.frame.DataFrame'>\n",
      "RangeIndex: 32586 entries, 0 to 32585\n",
      "Data columns (total 40 columns):\n",
      " #   Column            Non-Null Count  Dtype  \n",
      "---  ------            --------------  -----  \n",
      " 0   AcctNum           28985 non-null  float64\n",
      " 1   PrclErr           28985 non-null  float64\n",
      " 2   AddrAdjusted      28985 non-null  object \n",
      " 3   CityBlock         28985 non-null  float64\n",
      " 4   Parcel            28985 non-null  float64\n",
      " 5   OwnerCode         28985 non-null  float64\n",
      " 6   Handle            32585 non-null  float64\n",
      " 7   Parcel9           32585 non-null  float64\n",
      " 8   AddrNum           32585 non-null  object \n",
      " 9   AddrSuf           29006 non-null  object \n",
      " 10  StDir             28985 non-null  object \n",
      " 11  StName            32585 non-null  object \n",
      " 12  StType            32503 non-null  object \n",
      " 13  InspectDate       32584 non-null  object \n",
      " 14  InspectType       32583 non-null  object \n",
      " 15  CondLetterSent    32119 non-null  object \n",
      " 16  Status            25462 non-null  object \n",
      " 17  OwnerCompany      10013 non-null  object \n",
      " 18  OwnerName         29959 non-null  object \n",
      " 19  OwnerAddr         32371 non-null  object \n",
      " 20  OwnerCity         32572 non-null  object \n",
      " 21  OwnerState        32437 non-null  object \n",
      " 22  OwnerZIP          32291 non-null  object \n",
      " 23  GeoCityBLockPart  28985 non-null  float64\n",
      " 24  Ward00            32585 non-null  float64\n",
      " 25  Precinct02        32571 non-null  float64\n",
      " 26  Nbrhd             28985 non-null  float64\n",
      " 27  CDADist           28985 non-null  float64\n",
      " 28  CDASubDist        28985 non-null  float64\n",
      " 29  PoliceDist        28985 non-null  float64\n",
      " 30  CensBlock00       28985 non-null  float64\n",
      " 31  AsrNbrhd          28985 non-null  float64\n",
      " 32  ImpactCode        28985 non-null  float64\n",
      " 33  NLC               28985 non-null  float64\n",
      " 34  Parity            28985 non-null  object \n",
      " 35  Inspector         3598 non-null   object \n",
      " 36  Images            2514 non-null   object \n",
      " 37  FirstDate         28985 non-null  object \n",
      " 38  LastDate          28985 non-null  object \n",
      " 39  UpDateGeo         23 non-null     object \n",
      "dtypes: float64(18), object(22)\n",
      "memory usage: 9.9+ MB\n"
     ]
    }
   ],
   "source": [
    "condemnations.info()"
   ]
  },
  {
   "cell_type": "code",
   "execution_count": 4,
   "metadata": {},
   "outputs": [],
   "source": [
    "condemnations['InspectDate'] = pd.to_datetime(condemnations['InspectDate'],format='%Y-%m-%d')"
   ]
  },
  {
   "cell_type": "code",
   "execution_count": 5,
   "metadata": {},
   "outputs": [],
   "source": [
    "condemnations = condemnations[(condemnations['InspectDate']>='1986-01-01') & (condemnations['InspectDate']<'2015-01-01')]"
   ]
  },
  {
   "cell_type": "code",
   "execution_count": 7,
   "metadata": {},
   "outputs": [
    {
     "data": {
      "text/plain": [
       "(30232, 40)"
      ]
     },
     "execution_count": 7,
     "metadata": {},
     "output_type": "execute_result"
    }
   ],
   "source": [
    "condemnations.shape"
   ]
  },
  {
   "cell_type": "code",
   "execution_count": 8,
   "metadata": {
    "nbgrader": {
     "grade": true,
     "grade_id": "q1-tests",
     "locked": true,
     "points": 6,
     "schema_version": 1,
     "solution": false
    }
   },
   "outputs": [],
   "source": [
    "assert(condemnations.shape == (30232, 40))\n",
    "assert(len(condemnations[condemnations['InspectDate'] < '1986'])==0)\n",
    "assert(len(condemnations[condemnations['InspectDate'] >= '2015'])==0)"
   ]
  },
  {
   "cell_type": "markdown",
   "metadata": {
    "nbgrader": {
     "grade": false,
     "grade_id": "q2-intro",
     "locked": true,
     "schema_version": 1,
     "solution": false
    }
   },
   "source": [
    "## STEP 2: Pivot and Summarize\n",
    "\n",
    "In this step we want to pivot our data so that we have one row per year, a column for each value that appears in the `Status` column, and a count of how many condemnations occurred of each type in each year.  Put your summary pivot table into a variable called `by_year`.\n",
    "\n",
    "**Some helpful notes:**\n",
    "* For some reason, Pandas is just kind of stubborn about count being the aggregate function.  You may need to tell it to `np.ma.count` specifically.  I've imported Numpy as np for you."
   ]
  },
  {
   "cell_type": "code",
   "execution_count": 9,
   "metadata": {},
   "outputs": [],
   "source": [
    "condemnations['year'] = pd.DatetimeIndex(condemnations['InspectDate']).year"
   ]
  },
  {
   "cell_type": "code",
   "execution_count": 10,
   "metadata": {},
   "outputs": [
    {
     "data": {
      "text/html": [
       "<div>\n",
       "<style scoped>\n",
       "    .dataframe tbody tr th:only-of-type {\n",
       "        vertical-align: middle;\n",
       "    }\n",
       "\n",
       "    .dataframe tbody tr th {\n",
       "        vertical-align: top;\n",
       "    }\n",
       "\n",
       "    .dataframe thead th {\n",
       "        text-align: right;\n",
       "    }\n",
       "</style>\n",
       "<table border=\"1\" class=\"dataframe\">\n",
       "  <thead>\n",
       "    <tr style=\"text-align: right;\">\n",
       "      <th></th>\n",
       "      <th>AcctNum</th>\n",
       "      <th>PrclErr</th>\n",
       "      <th>AddrAdjusted</th>\n",
       "      <th>CityBlock</th>\n",
       "      <th>Parcel</th>\n",
       "      <th>OwnerCode</th>\n",
       "      <th>Handle</th>\n",
       "      <th>Parcel9</th>\n",
       "      <th>AddrNum</th>\n",
       "      <th>AddrSuf</th>\n",
       "      <th>StDir</th>\n",
       "      <th>StName</th>\n",
       "      <th>StType</th>\n",
       "      <th>InspectDate</th>\n",
       "      <th>InspectType</th>\n",
       "      <th>CondLetterSent</th>\n",
       "      <th>Status</th>\n",
       "      <th>OwnerCompany</th>\n",
       "      <th>OwnerName</th>\n",
       "      <th>OwnerAddr</th>\n",
       "      <th>OwnerCity</th>\n",
       "      <th>OwnerState</th>\n",
       "      <th>OwnerZIP</th>\n",
       "      <th>GeoCityBLockPart</th>\n",
       "      <th>Ward00</th>\n",
       "      <th>Precinct02</th>\n",
       "      <th>Nbrhd</th>\n",
       "      <th>CDADist</th>\n",
       "      <th>CDASubDist</th>\n",
       "      <th>PoliceDist</th>\n",
       "      <th>CensBlock00</th>\n",
       "      <th>AsrNbrhd</th>\n",
       "      <th>ImpactCode</th>\n",
       "      <th>NLC</th>\n",
       "      <th>Parity</th>\n",
       "      <th>Inspector</th>\n",
       "      <th>Images</th>\n",
       "      <th>FirstDate</th>\n",
       "      <th>LastDate</th>\n",
       "      <th>UpDateGeo</th>\n",
       "      <th>year</th>\n",
       "    </tr>\n",
       "  </thead>\n",
       "  <tbody>\n",
       "    <tr>\n",
       "      <th>0</th>\n",
       "      <td>1.0</td>\n",
       "      <td>0.0</td>\n",
       "      <td>False</td>\n",
       "      <td>3652.00</td>\n",
       "      <td>341.0</td>\n",
       "      <td>1.0</td>\n",
       "      <td>1.365200e+10</td>\n",
       "      <td>365200341.0</td>\n",
       "      <td>4049</td>\n",
       "      <td></td>\n",
       "      <td></td>\n",
       "      <td>COTTAGE</td>\n",
       "      <td>AV</td>\n",
       "      <td>1986-07-10</td>\n",
       "      <td>CB</td>\n",
       "      <td>1986-07-15 00:00:00</td>\n",
       "      <td>W</td>\n",
       "      <td>NaN</td>\n",
       "      <td>Hughie Richard Naylor</td>\n",
       "      <td>5080 Geraldine</td>\n",
       "      <td>St. Louis</td>\n",
       "      <td>MO</td>\n",
       "      <td>63115</td>\n",
       "      <td>3652.00</td>\n",
       "      <td>4.0</td>\n",
       "      <td>3.0</td>\n",
       "      <td>56.0</td>\n",
       "      <td>13.0</td>\n",
       "      <td>26.0</td>\n",
       "      <td>5.0</td>\n",
       "      <td>1114.4006</td>\n",
       "      <td>309.0</td>\n",
       "      <td>0.0</td>\n",
       "      <td>123.0</td>\n",
       "      <td>O</td>\n",
       "      <td>NaN</td>\n",
       "      <td>NaN</td>\n",
       "      <td>1987-08-07 00:00:00</td>\n",
       "      <td>2019-01-04 00:00:00</td>\n",
       "      <td>NaN</td>\n",
       "      <td>1986</td>\n",
       "    </tr>\n",
       "    <tr>\n",
       "      <th>1</th>\n",
       "      <td>2.0</td>\n",
       "      <td>0.0</td>\n",
       "      <td>False</td>\n",
       "      <td>666.00</td>\n",
       "      <td>80.0</td>\n",
       "      <td>0.0</td>\n",
       "      <td>1.066600e+10</td>\n",
       "      <td>66600080.0</td>\n",
       "      <td>906</td>\n",
       "      <td></td>\n",
       "      <td></td>\n",
       "      <td>GEYER</td>\n",
       "      <td>AV</td>\n",
       "      <td>2009-07-23</td>\n",
       "      <td>CB</td>\n",
       "      <td>2009-07-23 00:00:00</td>\n",
       "      <td>B</td>\n",
       "      <td>NaN</td>\n",
       "      <td>Ganz, Joseph R</td>\n",
       "      <td>906 Geyer Ave</td>\n",
       "      <td>St. Louis</td>\n",
       "      <td>MO</td>\n",
       "      <td>63104</td>\n",
       "      <td>666.00</td>\n",
       "      <td>7.0</td>\n",
       "      <td>12.0</td>\n",
       "      <td>21.0</td>\n",
       "      <td>8.0</td>\n",
       "      <td>16.0</td>\n",
       "      <td>3.0</td>\n",
       "      <td>1234.2003</td>\n",
       "      <td>248.0</td>\n",
       "      <td>0.0</td>\n",
       "      <td>104.0</td>\n",
       "      <td>E</td>\n",
       "      <td>NaN</td>\n",
       "      <td>NaN</td>\n",
       "      <td>1988-06-28 00:00:00</td>\n",
       "      <td>2019-01-04 00:00:00</td>\n",
       "      <td>NaN</td>\n",
       "      <td>2009</td>\n",
       "    </tr>\n",
       "    <tr>\n",
       "      <th>2</th>\n",
       "      <td>3.0</td>\n",
       "      <td>0.0</td>\n",
       "      <td>False</td>\n",
       "      <td>3913.01</td>\n",
       "      <td>120.0</td>\n",
       "      <td>1.0</td>\n",
       "      <td>1.391301e+10</td>\n",
       "      <td>391301120.0</td>\n",
       "      <td>4218</td>\n",
       "      <td></td>\n",
       "      <td></td>\n",
       "      <td>MARYLAND</td>\n",
       "      <td>AV</td>\n",
       "      <td>2003-08-06</td>\n",
       "      <td>CD</td>\n",
       "      <td>2003-08-12 00:00:00</td>\n",
       "      <td>NaN</td>\n",
       "      <td>NaN</td>\n",
       "      <td>Charles Bass</td>\n",
       "      <td>5015 Cates Ave.</td>\n",
       "      <td>St. Louis</td>\n",
       "      <td>MO</td>\n",
       "      <td>63108</td>\n",
       "      <td>3913.01</td>\n",
       "      <td>18.0</td>\n",
       "      <td>1.0</td>\n",
       "      <td>38.0</td>\n",
       "      <td>11.0</td>\n",
       "      <td>23.0</td>\n",
       "      <td>5.0</td>\n",
       "      <td>1191.1004</td>\n",
       "      <td>230.0</td>\n",
       "      <td>0.0</td>\n",
       "      <td>210.0</td>\n",
       "      <td>E</td>\n",
       "      <td>NaN</td>\n",
       "      <td>NaN</td>\n",
       "      <td>1990-08-28 00:00:00</td>\n",
       "      <td>2019-01-04 00:00:00</td>\n",
       "      <td>NaN</td>\n",
       "      <td>2003</td>\n",
       "    </tr>\n",
       "    <tr>\n",
       "      <th>3</th>\n",
       "      <td>4.0</td>\n",
       "      <td>2.0</td>\n",
       "      <td>False</td>\n",
       "      <td>3744.00</td>\n",
       "      <td>145.0</td>\n",
       "      <td>0.0</td>\n",
       "      <td>1.374400e+10</td>\n",
       "      <td>374400145.0</td>\n",
       "      <td>4145</td>\n",
       "      <td></td>\n",
       "      <td></td>\n",
       "      <td>COOK</td>\n",
       "      <td>AV</td>\n",
       "      <td>1996-06-17</td>\n",
       "      <td>CD</td>\n",
       "      <td>1996-06-24 00:00:00</td>\n",
       "      <td>W</td>\n",
       "      <td>Richard Burruss Ministries</td>\n",
       "      <td>Richard Burruss, Pres.</td>\n",
       "      <td>4100 Page Blvd.</td>\n",
       "      <td>St. Louis</td>\n",
       "      <td>MO</td>\n",
       "      <td>63113</td>\n",
       "      <td>3744.00</td>\n",
       "      <td>19.0</td>\n",
       "      <td>13.0</td>\n",
       "      <td>58.0</td>\n",
       "      <td>13.0</td>\n",
       "      <td>25.0</td>\n",
       "      <td>5.0</td>\n",
       "      <td>1111.4000</td>\n",
       "      <td>231.0</td>\n",
       "      <td>0.0</td>\n",
       "      <td>92.0</td>\n",
       "      <td>O</td>\n",
       "      <td>NaN</td>\n",
       "      <td>NaN</td>\n",
       "      <td>1990-06-12 00:00:00</td>\n",
       "      <td>2019-01-04 00:00:00</td>\n",
       "      <td>NaN</td>\n",
       "      <td>1996</td>\n",
       "    </tr>\n",
       "    <tr>\n",
       "      <th>4</th>\n",
       "      <td>5.0</td>\n",
       "      <td>0.0</td>\n",
       "      <td>False</td>\n",
       "      <td>1103.00</td>\n",
       "      <td>30.0</td>\n",
       "      <td>0.0</td>\n",
       "      <td>1.110300e+10</td>\n",
       "      <td>110300030.0</td>\n",
       "      <td>1936</td>\n",
       "      <td></td>\n",
       "      <td></td>\n",
       "      <td>ST LOUIS</td>\n",
       "      <td>AV</td>\n",
       "      <td>2006-12-20</td>\n",
       "      <td>CD</td>\n",
       "      <td>2006-12-27 00:00:00</td>\n",
       "      <td>NaN</td>\n",
       "      <td>N &amp; G ventures LC</td>\n",
       "      <td>Harvey Noble, Owner</td>\n",
       "      <td>515 Olive St.Ste.1608</td>\n",
       "      <td>St. Louis</td>\n",
       "      <td>MO</td>\n",
       "      <td>63101</td>\n",
       "      <td>1103.00</td>\n",
       "      <td>5.0</td>\n",
       "      <td>13.0</td>\n",
       "      <td>60.0</td>\n",
       "      <td>14.0</td>\n",
       "      <td>6.0</td>\n",
       "      <td>4.0</td>\n",
       "      <td>1266.5001</td>\n",
       "      <td>318.0</td>\n",
       "      <td>0.0</td>\n",
       "      <td>5.0</td>\n",
       "      <td>E</td>\n",
       "      <td>NaN</td>\n",
       "      <td>NaN</td>\n",
       "      <td>2006-12-21 00:00:00</td>\n",
       "      <td>2019-01-04 00:00:00</td>\n",
       "      <td>NaN</td>\n",
       "      <td>2006</td>\n",
       "    </tr>\n",
       "  </tbody>\n",
       "</table>\n",
       "</div>"
      ],
      "text/plain": [
       "   AcctNum  PrclErr AddrAdjusted  CityBlock  Parcel  OwnerCode        Handle  \\\n",
       "0      1.0      0.0        False    3652.00   341.0        1.0  1.365200e+10   \n",
       "1      2.0      0.0        False     666.00    80.0        0.0  1.066600e+10   \n",
       "2      3.0      0.0        False    3913.01   120.0        1.0  1.391301e+10   \n",
       "3      4.0      2.0        False    3744.00   145.0        0.0  1.374400e+10   \n",
       "4      5.0      0.0        False    1103.00    30.0        0.0  1.110300e+10   \n",
       "\n",
       "       Parcel9 AddrNum AddrSuf StDir    StName StType InspectDate InspectType  \\\n",
       "0  365200341.0    4049                 COTTAGE     AV  1986-07-10          CB   \n",
       "1   66600080.0     906                   GEYER     AV  2009-07-23          CB   \n",
       "2  391301120.0    4218                MARYLAND     AV  2003-08-06          CD   \n",
       "3  374400145.0    4145                    COOK     AV  1996-06-17          CD   \n",
       "4  110300030.0    1936                ST LOUIS     AV  2006-12-20          CD   \n",
       "\n",
       "        CondLetterSent Status                OwnerCompany  \\\n",
       "0  1986-07-15 00:00:00      W                         NaN   \n",
       "1  2009-07-23 00:00:00      B                         NaN   \n",
       "2  2003-08-12 00:00:00    NaN                         NaN   \n",
       "3  1996-06-24 00:00:00      W  Richard Burruss Ministries   \n",
       "4  2006-12-27 00:00:00    NaN           N & G ventures LC   \n",
       "\n",
       "                OwnerName              OwnerAddr  OwnerCity OwnerState  \\\n",
       "0   Hughie Richard Naylor         5080 Geraldine  St. Louis         MO   \n",
       "1          Ganz, Joseph R          906 Geyer Ave  St. Louis         MO   \n",
       "2            Charles Bass        5015 Cates Ave.  St. Louis         MO   \n",
       "3  Richard Burruss, Pres.        4100 Page Blvd.  St. Louis         MO   \n",
       "4     Harvey Noble, Owner  515 Olive St.Ste.1608  St. Louis         MO   \n",
       "\n",
       "  OwnerZIP  GeoCityBLockPart  Ward00  Precinct02  Nbrhd  CDADist  CDASubDist  \\\n",
       "0    63115           3652.00     4.0         3.0   56.0     13.0        26.0   \n",
       "1    63104            666.00     7.0        12.0   21.0      8.0        16.0   \n",
       "2    63108           3913.01    18.0         1.0   38.0     11.0        23.0   \n",
       "3    63113           3744.00    19.0        13.0   58.0     13.0        25.0   \n",
       "4    63101           1103.00     5.0        13.0   60.0     14.0         6.0   \n",
       "\n",
       "   PoliceDist  CensBlock00  AsrNbrhd  ImpactCode    NLC Parity Inspector  \\\n",
       "0         5.0    1114.4006     309.0         0.0  123.0      O       NaN   \n",
       "1         3.0    1234.2003     248.0         0.0  104.0      E       NaN   \n",
       "2         5.0    1191.1004     230.0         0.0  210.0      E       NaN   \n",
       "3         5.0    1111.4000     231.0         0.0   92.0      O       NaN   \n",
       "4         4.0    1266.5001     318.0         0.0    5.0      E       NaN   \n",
       "\n",
       "  Images            FirstDate             LastDate UpDateGeo  year  \n",
       "0    NaN  1987-08-07 00:00:00  2019-01-04 00:00:00       NaN  1986  \n",
       "1    NaN  1988-06-28 00:00:00  2019-01-04 00:00:00       NaN  2009  \n",
       "2    NaN  1990-08-28 00:00:00  2019-01-04 00:00:00       NaN  2003  \n",
       "3    NaN  1990-06-12 00:00:00  2019-01-04 00:00:00       NaN  1996  \n",
       "4    NaN  2006-12-21 00:00:00  2019-01-04 00:00:00       NaN  2006  "
      ]
     },
     "execution_count": 10,
     "metadata": {},
     "output_type": "execute_result"
    }
   ],
   "source": [
    "condemnations.head()"
   ]
  },
  {
   "cell_type": "code",
   "execution_count": 11,
   "metadata": {},
   "outputs": [],
   "source": [
    "import numpy as np\n",
    "by_year = condemnations.pivot_table(\n",
    "    values='AcctNum', \n",
    "    index='year', \n",
    "    columns='Status', \n",
    "    aggfunc=np.ma.count, \n",
    "    fill_value=0)"
   ]
  },
  {
   "cell_type": "code",
   "execution_count": 12,
   "metadata": {},
   "outputs": [
    {
     "data": {
      "text/html": [
       "<div>\n",
       "<style scoped>\n",
       "    .dataframe tbody tr th:only-of-type {\n",
       "        vertical-align: middle;\n",
       "    }\n",
       "\n",
       "    .dataframe tbody tr th {\n",
       "        vertical-align: top;\n",
       "    }\n",
       "\n",
       "    .dataframe thead th {\n",
       "        text-align: right;\n",
       "    }\n",
       "</style>\n",
       "<table border=\"1\" class=\"dataframe\">\n",
       "  <thead>\n",
       "    <tr style=\"text-align: right;\">\n",
       "      <th>Status</th>\n",
       "      <th>B</th>\n",
       "      <th>L</th>\n",
       "      <th>R</th>\n",
       "      <th>W</th>\n",
       "    </tr>\n",
       "    <tr>\n",
       "      <th>year</th>\n",
       "      <th></th>\n",
       "      <th></th>\n",
       "      <th></th>\n",
       "      <th></th>\n",
       "    </tr>\n",
       "  </thead>\n",
       "  <tbody>\n",
       "    <tr>\n",
       "      <th>1986</th>\n",
       "      <td>22</td>\n",
       "      <td>12</td>\n",
       "      <td>19</td>\n",
       "      <td>112</td>\n",
       "    </tr>\n",
       "    <tr>\n",
       "      <th>1987</th>\n",
       "      <td>91</td>\n",
       "      <td>20</td>\n",
       "      <td>8</td>\n",
       "      <td>361</td>\n",
       "    </tr>\n",
       "    <tr>\n",
       "      <th>1988</th>\n",
       "      <td>215</td>\n",
       "      <td>16</td>\n",
       "      <td>15</td>\n",
       "      <td>297</td>\n",
       "    </tr>\n",
       "    <tr>\n",
       "      <th>1989</th>\n",
       "      <td>277</td>\n",
       "      <td>15</td>\n",
       "      <td>11</td>\n",
       "      <td>432</td>\n",
       "    </tr>\n",
       "    <tr>\n",
       "      <th>1990</th>\n",
       "      <td>119</td>\n",
       "      <td>29</td>\n",
       "      <td>8</td>\n",
       "      <td>322</td>\n",
       "    </tr>\n",
       "  </tbody>\n",
       "</table>\n",
       "</div>"
      ],
      "text/plain": [
       "Status    B   L   R    W\n",
       "year                    \n",
       "1986     22  12  19  112\n",
       "1987     91  20   8  361\n",
       "1988    215  16  15  297\n",
       "1989    277  15  11  432\n",
       "1990    119  29   8  322"
      ]
     },
     "execution_count": 12,
     "metadata": {},
     "output_type": "execute_result"
    }
   ],
   "source": [
    "by_year.head()"
   ]
  },
  {
   "cell_type": "code",
   "execution_count": 13,
   "metadata": {
    "nbgrader": {
     "grade": true,
     "grade_id": "q2-tests",
     "locked": true,
     "points": 6,
     "schema_version": 1,
     "solution": false
    }
   },
   "outputs": [],
   "source": [
    "assert(by_year.shape == (29, 4))\n",
    "assert(list(by_year.columns) == ['B', 'L', 'R', 'W'])\n",
    "assert(list(by_year.sum()) == [10572, 4966, 98, 9670])"
   ]
  },
  {
   "cell_type": "markdown",
   "metadata": {
    "nbgrader": {
     "grade": false,
     "grade_id": "q3-intro",
     "locked": true,
     "schema_version": 1,
     "solution": false
    }
   },
   "source": [
    "## STEP 3: Plot and see what you see\n",
    "\n",
    "Use Pandas built-in plotting capabilities to visualize this information in way that you think makes sense.  It might be that plotting a simple multi-series line chart would give you some insights.  Show your plot in the cell below, then use the text cell below that to write a few sentences about what you see.\n"
   ]
  },
  {
   "cell_type": "code",
   "execution_count": 14,
   "metadata": {
    "nbgrader": {
     "grade": true,
     "grade_id": "q3-manual",
     "locked": false,
     "points": 5,
     "schema_version": 1,
     "solution": true
    }
   },
   "outputs": [
    {
     "data": {
      "text/plain": [
       "<matplotlib.axes._subplots.AxesSubplot at 0x7f718c768588>"
      ]
     },
     "execution_count": 14,
     "metadata": {},
     "output_type": "execute_result"
    },
    {
     "data": {
      "image/png": "[encoded data removed]",
      "text/plain": [
       "<Figure size 432x288 with 1 Axes>"
      ]
     },
     "metadata": {
      "needs_background": "light"
     },
     "output_type": "display_data"
    }
   ],
   "source": [
    "%matplotlib inline\n",
    "by_year.plot()"
   ]
  },
  {
   "cell_type": "markdown",
   "metadata": {},
   "source": [
    "---"
   ]
  },
  {
   "cell_type": "code",
   "execution_count": 18,
   "metadata": {},
   "outputs": [
    {
     "data": {
      "text/plain": [
       "<matplotlib.axes._subplots.AxesSubplot at 0x7febe35a1240>"
      ]
     },
     "execution_count": 18,
     "metadata": {},
     "output_type": "execute_result"
    },
    {
     "data": {
      "image/png": "[encoded data removed]",
      "text/plain": [
       "<Figure size 432x288 with 1 Axes>"
      ]
     },
     "metadata": {
      "needs_background": "light"
     },
     "output_type": "display_data"
    }
   ],
   "source": [
    "by_year.plot(kind='box')"
   ]
  },
  {
   "cell_type": "markdown",
   "metadata": {},
   "source": [
    "From the line and box plot from above we can see status B has highest distribution followed by W, L, and R.\n",
    "\n",
    "Status W is the highest from 1985 - 2001\n",
    "\n",
    "Status B is the hifhest from 2002 - 2013\n",
    "\n",
    "Status R seems like is about 0 from 1985-2015\n",
    "\n",
    "Seems like all the statuses are getting closer to 0 as we get closer 2015"
   ]
  },
  {
   "cell_type": "code",
   "execution_count": null,
   "metadata": {},
   "outputs": [],
   "source": []
  },
  {
   "cell_type": "markdown",
   "metadata": {},
   "source": [
    "# some extra data visualizations"
   ]
  },
  {
   "cell_type": "code",
   "execution_count": 17,
   "metadata": {},
   "outputs": [],
   "source": [
    "%matplotlib inline\n",
    "\n",
    "import matplotlib as mpl\n",
    "import matplotlib.pyplot as plt\n",
    "mpl.style.use('ggplot')  \n"
   ]
  },
  {
   "cell_type": "code",
   "execution_count": 18,
   "metadata": {},
   "outputs": [
    {
     "data": {
      "text/plain": [
       "Int64Index([1986, 1987, 1988, 1989, 1990, 1991, 1992, 1993, 1994, 1995, 1996,\n",
       "            1997, 1998, 1999, 2000, 2001, 2002, 2003, 2004, 2005, 2006, 2007,\n",
       "            2008, 2009, 2010, 2011, 2012, 2013, 2014],\n",
       "           dtype='int64', name='year')"
      ]
     },
     "execution_count": 18,
     "metadata": {},
     "output_type": "execute_result"
    }
   ],
   "source": [
    "by_year.index"
   ]
  },
  {
   "cell_type": "markdown",
   "metadata": {},
   "source": [
    "# area plot"
   ]
  },
  {
   "cell_type": "code",
   "execution_count": 22,
   "metadata": {},
   "outputs": [
    {
     "data": {
      "text/plain": [
       "Text(0.5, 0, 'Years')"
      ]
     },
     "execution_count": 22,
     "metadata": {},
     "output_type": "execute_result"
    },
    {
     "data": {
      "image/png": "[encoded data removed]",
      "text/plain": [
       "<Figure size 1440x720 with 1 Axes>"
      ]
     },
     "metadata": {},
     "output_type": "display_data"
    }
   ],
   "source": [
    "by_year.plot(kind='area',\n",
    "             alpha=0.25,\n",
    "             stacked=False,\n",
    "             figsize=(20, 10))  \n",
    "\n",
    "plt.title('Condemned Buildings in St. Louis')\n",
    "plt.xlabel('Years')\n",
    "\n"
   ]
  },
  {
   "cell_type": "markdown",
   "metadata": {},
   "source": [
    "# Histogram"
   ]
  },
  {
   "cell_type": "code",
   "execution_count": 34,
   "metadata": {},
   "outputs": [
    {
     "data": {
      "text/plain": [
       "Text(0.5, 1.0, 'Condemned Buildings in St. Louis')"
      ]
     },
     "execution_count": 34,
     "metadata": {},
     "output_type": "execute_result"
    },
    {
     "data": {
      "image/png": "[encoded data removed]",
      "text/plain": [
       "<Figure size 720x432 with 1 Axes>"
      ]
     },
     "metadata": {},
     "output_type": "display_data"
    }
   ],
   "source": [
    "count, bin_edges = np.histogram(by_year, 15)\n",
    "\n",
    "by_year.plot(kind ='hist', \n",
    "          figsize=(10, 6),\n",
    "          bins=15,\n",
    "          alpha=0.6,\n",
    "          xticks=bin_edges,\n",
    "          color=['coral', 'darkslateblue', 'mediumseagreen','lightyellow'])\n",
    "plt.title('Condemned Buildings in St. Louis')\n"
   ]
  },
  {
   "cell_type": "code",
   "execution_count": 35,
   "metadata": {},
   "outputs": [
    {
     "data": {
      "text/plain": [
       "Text(0.5, 1.0, 'Condemned Buildings in St. Louis')"
      ]
     },
     "execution_count": 35,
     "metadata": {},
     "output_type": "execute_result"
    },
    {
     "data": {
      "image/png": "[encoded data removed]",
      "text/plain": [
       "<Figure size 720x432 with 1 Axes>"
      ]
     },
     "metadata": {},
     "output_type": "display_data"
    }
   ],
   "source": [
    "count, bin_edges = np.histogram(by_year, 15)\n",
    "xmin = bin_edges[0] - 50 \n",
    "xmax = bin_edges[-1] + 50 \n",
    "\n",
    "# stacked Histogram\n",
    "by_year.plot(kind='hist',\n",
    "          figsize=(10, 6), \n",
    "          bins=15,\n",
    "          xticks=bin_edges,\n",
    "          color=['coral', 'darkslateblue', 'mediumseagreen','lightyellow'],\n",
    "          stacked=True,\n",
    "          xlim=(xmin, xmax)\n",
    "         )\n",
    "plt.title('Condemned Buildings in St. Louis')\n"
   ]
  },
  {
   "cell_type": "markdown",
   "metadata": {},
   "source": [
    "# Bar Charts"
   ]
  },
  {
   "cell_type": "code",
   "execution_count": 40,
   "metadata": {},
   "outputs": [
    {
     "data": {
      "text/plain": [
       "Text(0.5, 1.0, 'Condemned Buildings in St. Louis')"
      ]
     },
     "execution_count": 40,
     "metadata": {},
     "output_type": "execute_result"
    },
    {
     "data": {
      "image/png": "[encoded data removed]",
      "text/plain": [
       "<Figure size 720x432 with 1 Axes>"
      ]
     },
     "metadata": {},
     "output_type": "display_data"
    }
   ],
   "source": [
    "by_year.plot(kind='bar', figsize=(10, 6),color=['coral', 'darkslateblue', 'mediumseagreen','lightyellow'])\n",
    "plt.title('Condemned Buildings in St. Louis')\n"
   ]
  },
  {
   "cell_type": "code",
   "execution_count": 70,
   "metadata": {},
   "outputs": [
    {
     "data": {
      "image/png": "[encoded data removed]",
      "text/plain": [
       "<Figure size 720x432 with 1 Axes>"
      ]
     },
     "metadata": {},
     "output_type": "display_data"
    }
   ],
   "source": [
    "by_year['B'].plot(kind='bar', figsize=(10, 6), rot=90)\n",
    "plt.title('Condemned Buildings in St. Louis - status B')\n",
    "# Annotate arrow\n",
    "plt.annotate('',  \n",
    "             xy=(23, 1190),  \n",
    "             xytext=(18, 400),  \n",
    "             xycoords='data',  \n",
    "             arrowprops=dict(arrowstyle='->', connectionstyle='arc3', color='blue', lw=2)\n",
    "             )\n",
    "# Annotate Text\n",
    "plt.annotate('significant increase for status B',  # text to display\n",
    "             xy=(17.5, 450),  \n",
    "             rotation=65,  \n",
    "             va='bottom',  \n",
    "             ha='left',  \n",
    "             )\n",
    "plt.show()"
   ]
  },
  {
   "cell_type": "code",
   "execution_count": 88,
   "metadata": {},
   "outputs": [
    {
     "data": {
      "text/plain": [
       "Text(15.5, 450, 'significant decrease for status W')"
      ]
     },
     "execution_count": 88,
     "metadata": {},
     "output_type": "execute_result"
    },
    {
     "data": {
      "image/png": "[encoded data removed]",
      "text/plain": [
       "<Figure size 720x432 with 1 Axes>"
      ]
     },
     "metadata": {},
     "output_type": "display_data"
    }
   ],
   "source": [
    "by_year['W'].plot(kind='bar', figsize=(10, 6), rot=90)\n",
    "plt.title('Condemned Buildings in St. Louis - status W')\n",
    "plt.annotate('',  \n",
    "             xy=(27, 50),  \n",
    "             xytext=(13, 890),  \n",
    "             xycoords='data',  \n",
    "             arrowprops=dict(arrowstyle='->', connectionstyle='arc3', color='blue', lw=2)\n",
    "             )\n",
    "plt.annotate('significant decrease for status W',  # text to display\n",
    "             xy=(15.5, 450),  \n",
    "             rotation=-47,  \n",
    "             va='bottom',  \n",
    "             ha='left',  \n",
    "             )"
   ]
  },
  {
   "cell_type": "code",
   "execution_count": null,
   "metadata": {},
   "outputs": [],
   "source": []
  },
  {
   "cell_type": "code",
   "execution_count": null,
   "metadata": {},
   "outputs": [],
   "source": []
  },
  {
   "cell_type": "code",
   "execution_count": null,
   "metadata": {},
   "outputs": [],
   "source": []
  },
  {
   "cell_type": "markdown",
   "metadata": {},
   "source": [
    "# PART 2 - Video Conference Usage\n",
    "\n",
    "In this next part of the assignment, we'll be looking at how video conference usage changed during the beginning of COVID-19.  This real data.  Please don't judge anyone based on the information here.  ;)  The data is in the `/data/meetings.csv` file.\n",
    "\n",
    "For the assignment, I want you to compare (by person) the number of meetings hosted by each user for the last two weeks of February and the last two weeks of March.  This might be a little complicated to think through HOW to do that, so the steps below are one approach.\n",
    "\n",
    "1. Create a new column called startDate that contains just the day part of the startTime column in the data.  You can do that using datetime functions if you want, but you'll notice that the date in this file is a string formatted YYYY-MM-DD-HH:mm:ss, so it's probably easier just to pull out the first 10 characters of the string instead.  `meetings['startTime'].str[0:10]`\n",
    "2. Create another new column.  This one should contain a label like \"BEFORE\" for the week 2/17 - 2/28 and \"DURING\" for the week of 3/16 - 3/27.  A hand tip on this is that you can set values for some rows in a data frame using `meetings.loc[row_filter,'Column Name'] = 'Value'` if you've created a `row_filter` as we discussed in prior weeks.\n",
    "3. From here, using `pivot_table()` is one good way to summarize the information.\n",
    "\n",
    "**FINAL RESULT**\n",
    "\n",
    "For a final result, I'd like you to produce a data frame named **summary** that contains:\n",
    "* One ROW for each userName.  The userName can either be the row index or a column in the data frame.\n",
    "* One COLUMN for the \"BEFORE\" week and one COLUMN for the \"DURING\" week.  Name those columns 'Before' and 'During'.\n",
    "* One more calculated column that shows the percent increase from BEFORE to DURING.  Name that column 'pctChange'.\n"
   ]
  },
  {
   "cell_type": "code",
   "execution_count": 19,
   "metadata": {},
   "outputs": [],
   "source": [
    "import pandas as pd\n",
    "meetings = pd.read_csv('/data/meetings.csv')"
   ]
  },
  {
   "cell_type": "code",
   "execution_count": 21,
   "metadata": {},
   "outputs": [],
   "source": [
    "meetings['startDate'] = pd.to_datetime(meetings['start_time'],format='%Y-%m-%d')"
   ]
  },
  {
   "cell_type": "code",
   "execution_count": 24,
   "metadata": {},
   "outputs": [],
   "source": [
    "df_before_covid =meetings[(meetings['startDate']>='2020-02-17') & (meetings['startDate']<'2020-02-29')]"
   ]
  },
  {
   "cell_type": "code",
   "execution_count": 25,
   "metadata": {},
   "outputs": [],
   "source": [
    "#total meeting duration for each person before covid\n",
    "df_before_covid_meetingDuration =df_before_covid.groupby('userName')['meetingDurationMinutes'].sum().reset_index()"
   ]
  },
  {
   "cell_type": "code",
   "execution_count": 26,
   "metadata": {},
   "outputs": [],
   "source": [
    "df_during_covid =meetings[(meetings['startDate']>='2020-03-16') & (meetings['startDate']<'2020-03-28')]"
   ]
  },
  {
   "cell_type": "code",
   "execution_count": 27,
   "metadata": {},
   "outputs": [],
   "source": [
    "#total meeting duration for each person during covid\n",
    "df_during_covid_meetingDuration = df_during_covid.groupby('userName')['meetingDurationMinutes'].sum().reset_index()"
   ]
  },
  {
   "cell_type": "code",
   "execution_count": 28,
   "metadata": {},
   "outputs": [],
   "source": [
    "df_before_covid_meetingDuration.rename({'meetingDurationMinutes':'BEEFORE'},axis=1, inplace=True)"
   ]
  },
  {
   "cell_type": "code",
   "execution_count": 29,
   "metadata": {},
   "outputs": [],
   "source": [
    "df_during_covid_meetingDuration.rename({'meetingDurationMinutes':'DURING'},axis=1, inplace=True)"
   ]
  },
  {
   "cell_type": "code",
   "execution_count": null,
   "metadata": {},
   "outputs": [],
   "source": []
  },
  {
   "cell_type": "code",
   "execution_count": 30,
   "metadata": {},
   "outputs": [],
   "source": [
    "summary = df_before_covid_meetingDuration.merge(df_during_covid_meetingDuration, how='outer', on=['userName'])"
   ]
  },
  {
   "cell_type": "code",
   "execution_count": 32,
   "metadata": {},
   "outputs": [],
   "source": [
    "summary['pctChange']= ((summary['DURING']-summary['BEEFORE'])/summary['BEEFORE']) "
   ]
  },
  {
   "cell_type": "code",
   "execution_count": 34,
   "metadata": {},
   "outputs": [
    {
     "data": {
      "text/html": [
       "<div>\n",
       "<style scoped>\n",
       "    .dataframe tbody tr th:only-of-type {\n",
       "        vertical-align: middle;\n",
       "    }\n",
       "\n",
       "    .dataframe tbody tr th {\n",
       "        vertical-align: top;\n",
       "    }\n",
       "\n",
       "    .dataframe thead th {\n",
       "        text-align: right;\n",
       "    }\n",
       "</style>\n",
       "<table border=\"1\" class=\"dataframe\">\n",
       "  <thead>\n",
       "    <tr style=\"text-align: right;\">\n",
       "      <th></th>\n",
       "      <th>userName</th>\n",
       "      <th>BEEFORE</th>\n",
       "      <th>DURING</th>\n",
       "      <th>pctChange</th>\n",
       "    </tr>\n",
       "  </thead>\n",
       "  <tbody>\n",
       "    <tr>\n",
       "      <th>0</th>\n",
       "      <td>Drew.Marco</td>\n",
       "      <td>557.8833</td>\n",
       "      <td>1010.8166</td>\n",
       "      <td>0.811878</td>\n",
       "    </tr>\n",
       "    <tr>\n",
       "      <th>1</th>\n",
       "      <td>amit.bhagat</td>\n",
       "      <td>821.2001</td>\n",
       "      <td>1431.3163</td>\n",
       "      <td>0.742957</td>\n",
       "    </tr>\n",
       "    <tr>\n",
       "      <th>2</th>\n",
       "      <td>andrea.bryant.amitechsolutions</td>\n",
       "      <td>119.5501</td>\n",
       "      <td>72.7167</td>\n",
       "      <td>-0.391747</td>\n",
       "    </tr>\n",
       "    <tr>\n",
       "      <th>3</th>\n",
       "      <td>angie.warren</td>\n",
       "      <td>45.1166</td>\n",
       "      <td>314.6667</td>\n",
       "      <td>5.974522</td>\n",
       "    </tr>\n",
       "    <tr>\n",
       "      <th>4</th>\n",
       "      <td>chris.rogers.amitechsolutions</td>\n",
       "      <td>383.3999</td>\n",
       "      <td>23.1833</td>\n",
       "      <td>-0.939532</td>\n",
       "    </tr>\n",
       "    <tr>\n",
       "      <th>5</th>\n",
       "      <td>eric.keeney</td>\n",
       "      <td>1101.2834</td>\n",
       "      <td>794.0168</td>\n",
       "      <td>-0.279008</td>\n",
       "    </tr>\n",
       "    <tr>\n",
       "      <th>6</th>\n",
       "      <td>eric.rodman</td>\n",
       "      <td>166.5833</td>\n",
       "      <td>387.8168</td>\n",
       "      <td>1.328065</td>\n",
       "    </tr>\n",
       "    <tr>\n",
       "      <th>7</th>\n",
       "      <td>jeff.hatfield.amitechsolutions</td>\n",
       "      <td>142.5835</td>\n",
       "      <td>1197.0667</td>\n",
       "      <td>7.395549</td>\n",
       "    </tr>\n",
       "    <tr>\n",
       "      <th>8</th>\n",
       "      <td>jennifer.patton.amitechs</td>\n",
       "      <td>346.8167</td>\n",
       "      <td>158.0666</td>\n",
       "      <td>-0.544236</td>\n",
       "    </tr>\n",
       "    <tr>\n",
       "      <th>9</th>\n",
       "      <td>jessica.sikora</td>\n",
       "      <td>78.3167</td>\n",
       "      <td>349.2999</td>\n",
       "      <td>3.460095</td>\n",
       "    </tr>\n",
       "    <tr>\n",
       "      <th>10</th>\n",
       "      <td>matt.allsup</td>\n",
       "      <td>78.2999</td>\n",
       "      <td>NaN</td>\n",
       "      <td>NaN</td>\n",
       "    </tr>\n",
       "    <tr>\n",
       "      <th>11</th>\n",
       "      <td>matt.brown.amitechsolutions</td>\n",
       "      <td>16.4667</td>\n",
       "      <td>55.4833</td>\n",
       "      <td>2.369424</td>\n",
       "    </tr>\n",
       "    <tr>\n",
       "      <th>12</th>\n",
       "      <td>melissa.menne</td>\n",
       "      <td>134.6666</td>\n",
       "      <td>151.5166</td>\n",
       "      <td>0.125124</td>\n",
       "    </tr>\n",
       "    <tr>\n",
       "      <th>13</th>\n",
       "      <td>michael.demos</td>\n",
       "      <td>232.3000</td>\n",
       "      <td>559.2167</td>\n",
       "      <td>1.407304</td>\n",
       "    </tr>\n",
       "    <tr>\n",
       "      <th>14</th>\n",
       "      <td>paul.boal</td>\n",
       "      <td>381.6333</td>\n",
       "      <td>948.0334</td>\n",
       "      <td>1.484147</td>\n",
       "    </tr>\n",
       "    <tr>\n",
       "      <th>15</th>\n",
       "      <td>paul.smith.amitechsolutions</td>\n",
       "      <td>629.9831</td>\n",
       "      <td>349.1666</td>\n",
       "      <td>-0.445752</td>\n",
       "    </tr>\n",
       "    <tr>\n",
       "      <th>16</th>\n",
       "      <td>pete.cornwell</td>\n",
       "      <td>16.2167</td>\n",
       "      <td>400.6000</td>\n",
       "      <td>23.702930</td>\n",
       "    </tr>\n",
       "    <tr>\n",
       "      <th>17</th>\n",
       "      <td>raghavender.tuniki</td>\n",
       "      <td>227.4666</td>\n",
       "      <td>19.9500</td>\n",
       "      <td>-0.912295</td>\n",
       "    </tr>\n",
       "    <tr>\n",
       "      <th>18</th>\n",
       "      <td>sandip.shaw</td>\n",
       "      <td>250.5166</td>\n",
       "      <td>21.8666</td>\n",
       "      <td>-0.912714</td>\n",
       "    </tr>\n",
       "    <tr>\n",
       "      <th>19</th>\n",
       "      <td>santhosh.kanala</td>\n",
       "      <td>72.6333</td>\n",
       "      <td>395.7668</td>\n",
       "      <td>4.448834</td>\n",
       "    </tr>\n",
       "    <tr>\n",
       "      <th>20</th>\n",
       "      <td>shawn.reilly.amitechsolutions</td>\n",
       "      <td>275.4166</td>\n",
       "      <td>413.6167</td>\n",
       "      <td>0.501786</td>\n",
       "    </tr>\n",
       "    <tr>\n",
       "      <th>21</th>\n",
       "      <td>tejus.maduskar</td>\n",
       "      <td>324.1001</td>\n",
       "      <td>958.3833</td>\n",
       "      <td>1.957060</td>\n",
       "    </tr>\n",
       "  </tbody>\n",
       "</table>\n",
       "</div>"
      ],
      "text/plain": [
       "                          userName    BEEFORE     DURING  pctChange\n",
       "0                       Drew.Marco   557.8833  1010.8166   0.811878\n",
       "1                      amit.bhagat   821.2001  1431.3163   0.742957\n",
       "2   andrea.bryant.amitechsolutions   119.5501    72.7167  -0.391747\n",
       "3                     angie.warren    45.1166   314.6667   5.974522\n",
       "4    chris.rogers.amitechsolutions   383.3999    23.1833  -0.939532\n",
       "5                      eric.keeney  1101.2834   794.0168  -0.279008\n",
       "6                      eric.rodman   166.5833   387.8168   1.328065\n",
       "7   jeff.hatfield.amitechsolutions   142.5835  1197.0667   7.395549\n",
       "8         jennifer.patton.amitechs   346.8167   158.0666  -0.544236\n",
       "9                   jessica.sikora    78.3167   349.2999   3.460095\n",
       "10                     matt.allsup    78.2999        NaN        NaN\n",
       "11     matt.brown.amitechsolutions    16.4667    55.4833   2.369424\n",
       "12                   melissa.menne   134.6666   151.5166   0.125124\n",
       "13                   michael.demos   232.3000   559.2167   1.407304\n",
       "14                       paul.boal   381.6333   948.0334   1.484147\n",
       "15     paul.smith.amitechsolutions   629.9831   349.1666  -0.445752\n",
       "16                   pete.cornwell    16.2167   400.6000  23.702930\n",
       "17              raghavender.tuniki   227.4666    19.9500  -0.912295\n",
       "18                     sandip.shaw   250.5166    21.8666  -0.912714\n",
       "19                 santhosh.kanala    72.6333   395.7668   4.448834\n",
       "20   shawn.reilly.amitechsolutions   275.4166   413.6167   0.501786\n",
       "21                  tejus.maduskar   324.1001   958.3833   1.957060"
      ]
     },
     "execution_count": 34,
     "metadata": {},
     "output_type": "execute_result"
    }
   ],
   "source": [
    "summary"
   ]
  },
  {
   "cell_type": "markdown",
   "metadata": {},
   "source": [
    "---"
   ]
  },
  {
   "cell_type": "code",
   "execution_count": 36,
   "metadata": {},
   "outputs": [
    {
     "data": {
      "text/plain": [
       "2.44"
      ]
     },
     "execution_count": 36,
     "metadata": {},
     "output_type": "execute_result"
    }
   ],
   "source": [
    "summary['pctChange'].mean().round(2)"
   ]
  },
  {
   "cell_type": "code",
   "execution_count": 37,
   "metadata": {},
   "outputs": [
    {
     "data": {
      "text/plain": [
       "22"
      ]
     },
     "execution_count": 37,
     "metadata": {},
     "output_type": "execute_result"
    }
   ],
   "source": [
    "len(summary)"
   ]
  },
  {
   "cell_type": "code",
   "execution_count": 35,
   "metadata": {},
   "outputs": [],
   "source": [
    "assert(len(summary) == 22)"
   ]
  },
  {
   "cell_type": "code",
   "execution_count": null,
   "metadata": {},
   "outputs": [],
   "source": [
    "assert(summary['pctChange'].mean().round(2) == 0.92)"
   ]
  },
  {
   "cell_type": "code",
   "execution_count": null,
   "metadata": {},
   "outputs": [],
   "source": []
  },
  {
   "cell_type": "markdown",
   "metadata": {},
   "source": [
    "\n",
    "\n",
    "---\n",
    "\n",
    "\n",
    "\n",
    "## Submitting Your Work\n",
    "\n",
    "Submit as usual\n"
   ]
  }
 ],
 "metadata": {
  "celltoolbar": "Create Assignment",
  "kernelspec": {
   "display_name": "Python 3",
   "language": "python",
   "name": "python3"
  },
  "language_info": {
   "codemirror_mode": {
    "name": "ipython",
    "version": 3
   },
   "file_extension": ".py",
   "mimetype": "text/x-python",
   "name": "python",
   "nbconvert_exporter": "python",
   "pygments_lexer": "ipython3",
   "version": "3.6.7"
  }
 },
 "nbformat": 4,
 "nbformat_minor": 2
}
