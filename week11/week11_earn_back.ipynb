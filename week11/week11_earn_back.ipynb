{
 "cells": [
  {
   "cell_type": "markdown",
   "metadata": {},
   "source": [
    "# Week 11 - Earn-Back Points Assignment #1\n",
    "\n",
    "These exercises are entirely optional, but they provide good practice. And you can use them to earn extra points toward your semester grade.  Each problem in this notebook can you earn you back up to 2 points.  There are key requirements, though. If your code does not following these rules, you will earn no points for your work.\n",
    "* You MUST include docstrings that explain the purpose of your code.\n",
    "* You MUST include at least 2 example tests in your docstrings for each function you write.\n",
    "* You MUST run your docstrings within the notebook to show me your code and docstrings work correctly.\n",
    "* You MUST submit your own individual work.  You may not collaborate with other students on these assignments.\n",
    "\n",
    "There will be 4 assignments like this between now and the end of the semester, each with 4 problems, each worth 2 points, for a total of 32 points.\n",
    "\n",
    "**If anything about the above rules is unclear, please message me on Canvas or via email**"
   ]
  },
  {
   "cell_type": "markdown",
   "metadata": {},
   "source": [
    "---"
   ]
  },
  {
   "cell_type": "markdown",
   "metadata": {},
   "source": [
    "## Earn-Back 1: Sunflower Health Plan Files\n",
    "\n",
    "Sunflower Health Plan is one of Centene's state-specific health plans. If you aren't familiar with Centene, they are one of the largest healthcare maangement organizations the country and are headquartered here in St. Louis. Many of your colleagues from previous graduating classes now work at Centene. \n",
    "\n",
    "Sunflower Health Plan has posted links to two files on this page: https://www.sunflowerhealthplan.com/json.html\n",
    "\n",
    "* https://www.sunflowerhealthplan.com/content/dam/centene/sunflower/json/KAPrintProviderDir_Prac.json\n",
    "* https://www.sunflowerhealthplan.com/content/dam/centene/sunflower/json/KAPrintProviderDir_Prov.json\n",
    "\n",
    "This entire problemset asks you to work with these files.\n",
    "\n",
    "Your first step is to write a python function called **get_files(type)** where **type** is a string that contains one of two values: *practitioner* or *provider*.  Your function should download the correct file from the webpage above based on the string value passed to the function. The function should return the objects created by loading that JSON data.\n",
    "\n",
    "**INPUT:** `'practitioneer'` or `'provider'`\n",
    "\n",
    "**OUTPUT:** Python object based on the data from the appropriate file.\n",
    "\n",
    "\n",
    "*Note that these files may take a minute for Python to download. They're big.*"
   ]
  },
  {
   "cell_type": "code",
   "execution_count": 14,
   "metadata": {},
   "outputs": [],
   "source": [
    "import urllib.request, json\n",
    "def get_files(file_type):\n",
    "    \"\"\"\n",
    "    This function accepts two values: \"practitioner\" or \"provider\". Then downloads \n",
    "    the correct file from the webpage above based on the string value passed to the function. \n",
    "    The length of the practitioner data is 69292 and the length of the provider data is 22225\n",
    "    \n",
    "    >>> len(get_files('practitioner'))\n",
    "    69292\n",
    "    \n",
    "    >>> len(get_files('provider'))\n",
    "    22225\n",
    "    \n",
    "    >>> get_files('abcdef')\n",
    "    File type was not found, enter: 'practitioner' or 'provider'\n",
    "    \"\"\"\n",
    "    if file_type == 'practitioner':\n",
    "        with urllib.request.urlopen(\"https://www.sunflowerhealthplan.com/content/dam/centene/sunflower/json/KAPrintProviderDir_Prac.json\") as url:\n",
    "            jason_file = json.load(url)\n",
    "            return jason_file\n",
    "        \n",
    "    elif file_type == 'provider' :\n",
    "        with urllib.request.urlopen(\"https://www.sunflowerhealthplan.com/content/dam/centene/sunflower/json/KAPrintProviderDir_Prov.json\") as url:\n",
    "            jason_file = json.load(url)\n",
    "            return jason_file\n",
    "        \n",
    "    else :\n",
    "        print(\"File type was not found, enter: 'practitioner' or 'provider'\")"
   ]
  },
  {
   "cell_type": "code",
   "execution_count": 15,
   "metadata": {},
   "outputs": [
    {
     "name": "stdout",
     "output_type": "stream",
     "text": [
      "Finding tests in NoName\n",
      "Trying:\n",
      "    len(get_files('practitioner'))\n",
      "Expecting:\n",
      "    69292\n",
      "ok\n",
      "Trying:\n",
      "    len(get_files('provider'))\n",
      "Expecting:\n",
      "    22225\n",
      "ok\n",
      "Trying:\n",
      "    get_files('abcdef')\n",
      "Expecting:\n",
      "    File type was not found, enter: 'practitioner' or 'provider'\n",
      "ok\n"
     ]
    }
   ],
   "source": [
    "import doctest\n",
    "doctest.run_docstring_examples(get_files, globals(), verbose=True)"
   ]
  },
  {
   "cell_type": "markdown",
   "metadata": {},
   "source": [
    "## Earn-Back 2: What is this Data?\n",
    "\n",
    "No coding for this part, so no docstrings or tests are required.\n",
    "\n",
    "Explain to in 2-3 sentences, what do you see in these files? If you can't make sense of it from a healthcare business perspective, just tell me what you see in techincal terms."
   ]
  },
  {
   "cell_type": "markdown",
   "metadata": {},
   "source": [
    "We have two json files, practitioner and provider. "
   ]
  },
  {
   "cell_type": "markdown",
   "metadata": {},
   "source": [
    "In the practitioner data we can see the list of informations about 69292 practitioners\n",
    "such as, PRACTITIONER_ID, Name, location, OFFICEHOURS, SPECIALTY, etc. \n",
    "Primary key:PRACTITIONER_ID, Foreign key: PROVIDER_ID and LOCATION_ID"
   ]
  },
  {
   "cell_type": "markdown",
   "metadata": {},
   "source": [
    "In the provider data we can see the list of informations about 22225 providers\n",
    "such as, PROVIDER_ID, Name, location, OFFICEHOURS, SPECIALTY, etc. \n",
    "Primary key:PROVIDER_ID, Foreign key: LOCATION_ID"
   ]
  },
  {
   "cell_type": "markdown",
   "metadata": {},
   "source": [
    "## Earn-Back 3: How many are closed on each Day of the Week\n",
    "\n",
    "You'll see in the files a piece of information that tellsu us what the schedule is on every day of the week:\n",
    "\n",
    "```json\n",
    "'PROVIDER_ID': '387724',\n",
    " 'LOCATION_ID': '626140',\n",
    " 'NAME': 'Mercy Clinic Cardiology',\n",
    " 'PROVIDER TYPE': 'GROUP PRACTICE',\n",
    " 'NPI': '1215264817',\n",
    " 'SPECIALTY': 'Multi-Specialty',\n",
    " 'ADDRESS1': '3020 Saint Johns Boulevard',\n",
    " 'ADDRESS2': 'Suite A1',\n",
    " 'ADDRESS3': '',\n",
    " 'CITY': 'Joplin',\n",
    " 'STATE': 'MO',\n",
    " 'ZIP': '64804',\n",
    " 'COUNTY': 'Newton',\n",
    " 'LATITUDE': '37.061',\n",
    " 'LONGITUDE': '-94.536',\n",
    " 'PHONE': '(417) 627-8566-(855) 420-7900',\n",
    " 'AFTER HOUR PHONE': '',\n",
    " 'FAX': '',\n",
    " 'OFFICEHOURS_SU': 'Closed',\n",
    " 'OFFICEHOURS_MO': '8:00 AM - 5:00 PM',\n",
    " 'OFFICEHOURS_TU': '8:00 AM - 5:00 PM',\n",
    " 'OFFICEHOURS_WE': '8:00 AM - 5:00 PM',\n",
    " 'OFFICEHOURS_TH': '8:00 AM - 5:00 PM',\n",
    " 'OFFICEHOURS_FR': '8:00 AM - 5:00 PM',\n",
    " 'OFFICEHOURS_SA': 'Closed',\n",
    " 'HANDICAP ACCESS': 'N',\n",
    " 'WEBSITE': 'www.mercy.net',\n",
    " 'PRODUCT 1': 'GP',\n",
    "\n",
    "```\n",
    "\n",
    "Write a function called **closed_by_day(data)** that takes one parameter (the data that came out of the Provider or Practitioner download) and outputs a dictionary of how many practitioneres / providers are closed on each day:\n",
    "```json\n",
    "{\n",
    "    \"Sunday\": 1401,\n",
    "    \"Monday\": 2,\n",
    "    ...etc...\n",
    "```"
   ]
  },
  {
   "cell_type": "code",
   "execution_count": 21,
   "metadata": {},
   "outputs": [],
   "source": [
    "def closed_by_day(data):\n",
    "    \"\"\"\n",
    "    This function accepts two values: \"practitioner\" or \"provider\". Then downloads \n",
    "    the correct file from the webpage above based on the string value passed to the function.\n",
    "    Returnes a dictionary of how many practitioneres / providers are closed on each day.\n",
    "    \n",
    "    >>> closed_by_day('provider')\n",
    "    {'Sunday': 18505, 'Monday': 108, 'Tuesday': 53, 'Wednesday': 96, 'Thursday': 66, 'Friday': 259, 'Saturday': 17845}\n",
    "    \n",
    "     \n",
    "    >>> closed_by_day('practitioner')\n",
    "    {'Sunday': 66733, 'Monday': 188, 'Tuesday': 104, 'Wednesday': 135, 'Thursday': 110, 'Friday': 507, 'Saturday': 65286}\n",
    "     \n",
    "     \n",
    "    \n",
    "    \"\"\"\n",
    "    counter_m=0\n",
    "    counter_tu=0\n",
    "    counter_w=0\n",
    "    counter_t=0\n",
    "    counter_f=0\n",
    "    counter_sa=0\n",
    "    counter_su=0\n",
    "    json_file = get_files(data)\n",
    "    for value in json_file:\n",
    "        mon=value.get('OFFICEHOURS_MO')\n",
    "        tue=value.get('OFFICEHOURS_TU')\n",
    "        wed=value.get('OFFICEHOURS_WE')\n",
    "        thu=value.get('OFFICEHOURS_TH')\n",
    "        fri=value.get('OFFICEHOURS_FR')\n",
    "        sat=value.get('OFFICEHOURS_SA')\n",
    "        sun=value.get('OFFICEHOURS_SU')\n",
    "        if mon == 'Closed':\n",
    "            counter_m +=1\n",
    "        if tue == 'Closed':\n",
    "            counter_tu +=1\n",
    "        if wed == 'Closed':\n",
    "            counter_w +=1\n",
    "        if thu == 'Closed':\n",
    "            counter_t +=1\n",
    "        if fri == 'Closed':\n",
    "            counter_f +=1\n",
    "        if sat == 'Closed':\n",
    "            counter_sa +=1\n",
    "        if sun == 'Closed':\n",
    "            counter_su +=1\n",
    "    close_counter = {'Sunday':counter_su, 'Monday':counter_m, 'Tuesday':counter_tu, 'Wednesday':counter_w, 'Thursday':counter_t, \n",
    "                     'Friday':counter_f, 'Saturday': counter_sa}\n",
    "    return close_counter\n",
    "            \n",
    "    \n",
    "    "
   ]
  },
  {
   "cell_type": "code",
   "execution_count": 22,
   "metadata": {},
   "outputs": [
    {
     "name": "stdout",
     "output_type": "stream",
     "text": [
      "Finding tests in NoName\n",
      "Trying:\n",
      "    closed_by_day('provider')\n",
      "Expecting:\n",
      "    {'Sunday': 18505, 'Monday': 108, 'Tuesday': 53, 'Wednesday': 96, 'Thursday': 66, 'Friday': 259, 'Saturday': 17845}\n",
      "ok\n",
      "Trying:\n",
      "    closed_by_day('practitioner')\n",
      "Expecting:\n",
      "    {'Sunday': 66733, 'Monday': 188, 'Tuesday': 104, 'Wednesday': 135, 'Thursday': 110, 'Friday': 507, 'Saturday': 65286}\n",
      "ok\n"
     ]
    }
   ],
   "source": [
    "doctest.run_docstring_examples(closed_by_day, globals(), verbose=True)"
   ]
  },
  {
   "cell_type": "code",
   "execution_count": 17,
   "metadata": {},
   "outputs": [
    {
     "data": {
      "text/plain": [
       "{'Sunday': 18505,\n",
       " 'Monday': 108,\n",
       " 'Tuesday': 53,\n",
       " 'Wednesday': 96,\n",
       " 'Thursday': 66,\n",
       " 'Friday': 259,\n",
       " 'Saturday': 17845}"
      ]
     },
     "execution_count": 17,
     "metadata": {},
     "output_type": "execute_result"
    }
   ],
   "source": [
    "closed_by_day('provider')"
   ]
  },
  {
   "cell_type": "code",
   "execution_count": 18,
   "metadata": {},
   "outputs": [
    {
     "data": {
      "text/plain": [
       "{'Sunday': 66733,\n",
       " 'Monday': 188,\n",
       " 'Tuesday': 104,\n",
       " 'Wednesday': 135,\n",
       " 'Thursday': 110,\n",
       " 'Friday': 507,\n",
       " 'Saturday': 65286}"
      ]
     },
     "execution_count": 18,
     "metadata": {},
     "output_type": "execute_result"
    }
   ],
   "source": [
    "closed_by_day('practitioner')"
   ]
  },
  {
   "cell_type": "markdown",
   "metadata": {},
   "source": [
    "## Earn-Back 4: Output to a file\n",
    "\n",
    "Now, simply write a function named **to_csv(data, file)** that takes this summary view of information as a dictionary (the `data` parameter) and writes it out to a CSV file (the `file` parameter)."
   ]
  },
  {
   "cell_type": "code",
   "execution_count": 28,
   "metadata": {},
   "outputs": [],
   "source": [
    "import pandas as pd\n",
    "import os"
   ]
  },
  {
   "cell_type": "code",
   "execution_count": 49,
   "metadata": {},
   "outputs": [],
   "source": [
    "def to_csv(data, file):\n",
    "    \"\"\"\n",
    "    This function accepts two values: \"practitioner\" or \"provider\" for the first parameter(data). Then downloads \n",
    "    the correct file from the webpage above based on the string value passed to the function.\n",
    "    Then saves file as \"json_file.json\" and read it as a pandas dataframe.\n",
    "    Then save the file as csv with the given file name in the second parameter.\n",
    "    Deletes \"json_file.json\" at the end. \n",
    "    \n",
    "    The following code returnes name of first practitioner from csv file\n",
    "    >>> to_csv('practitioner', 'prac') \n",
    "    None\n",
    "    >>> pd.read_csv('prac.csv').iloc[0][4]\n",
    "    'Matthew'\n",
    "    \n",
    "    The following code returnes name of first provider from csv file\n",
    "    >>> to_csv('provider', 'prov')\n",
    "    None\n",
    "    >>> pd.read_csv('prov.csv').iloc[0][3]\n",
    "    'Mercy Clinic Cardiology'\n",
    "    \n",
    "    \"\"\"\n",
    "    json_file = get_files(data)\n",
    "    with open(\"json_file.json\", \"w\") as outfile:\n",
    "        json.dump(json_file, outfile)\n",
    "    df=pd.read_json(\"json_file.json\")\n",
    "    df.to_csv(f'{file}.csv')\n",
    "    os.remove(\"json_file.json\")"
   ]
  },
  {
   "cell_type": "code",
   "execution_count": 50,
   "metadata": {},
   "outputs": [
    {
     "name": "stdout",
     "output_type": "stream",
     "text": [
      "Finding tests in NoName\n",
      "Trying:\n",
      "    to_csv('practitioner', 'prac') \n",
      "Expecting:\n",
      "    None\n",
      "**********************************************************************\n",
      "File \"__main__\", line 10, in NoName\n",
      "Failed example:\n",
      "    to_csv('practitioner', 'prac') \n",
      "Expected:\n",
      "    None\n",
      "Got nothing\n",
      "Trying:\n",
      "    pd.read_csv('prac.csv').iloc[0][4]\n",
      "Expecting:\n",
      "    'Matthew'\n"
     ]
    },
    {
     "name": "stderr",
     "output_type": "stream",
     "text": [
      "/opt/tljh/user/lib/python3.6/doctest.py:2107: DtypeWarning: Columns (9,50) have mixed types.Specify dtype option on import or set low_memory=False.\n",
      "  runner.run(test, compileflags=compileflags)\n"
     ]
    },
    {
     "name": "stdout",
     "output_type": "stream",
     "text": [
      "ok\n",
      "Trying:\n",
      "    to_csv('provider', 'prov')\n",
      "Expecting:\n",
      "    None\n",
      "**********************************************************************\n",
      "File \"__main__\", line 16, in NoName\n",
      "Failed example:\n",
      "    to_csv('provider', 'prov')\n",
      "Expected:\n",
      "    None\n",
      "Got nothing\n",
      "Trying:\n",
      "    pd.read_csv('prov.csv').iloc[0][3]\n",
      "Expecting:\n",
      "    'Mercy Clinic Cardiology'\n",
      "ok\n"
     ]
    },
    {
     "name": "stderr",
     "output_type": "stream",
     "text": [
      "/opt/tljh/user/lib/python3.6/doctest.py:2107: DtypeWarning: Columns (17,35) have mixed types.Specify dtype option on import or set low_memory=False.\n",
      "  runner.run(test, compileflags=compileflags)\n"
     ]
    }
   ],
   "source": [
    "doctest.run_docstring_examples(to_csv, globals(), verbose=True)"
   ]
  },
  {
   "cell_type": "code",
   "execution_count": null,
   "metadata": {},
   "outputs": [],
   "source": []
  },
  {
   "cell_type": "markdown",
   "metadata": {},
   "source": [
    "## Submit your work to github in your week 11 folder by 11/18 11:59 PM"
   ]
  },
  {
   "cell_type": "code",
   "execution_count": null,
   "metadata": {},
   "outputs": [],
   "source": []
  }
 ],
 "metadata": {
  "kernelspec": {
   "display_name": "Python 3",
   "language": "python",
   "name": "python3"
  },
  "language_info": {
   "codemirror_mode": {
    "name": "ipython",
    "version": 3
   },
   "file_extension": ".py",
   "mimetype": "text/x-python",
   "name": "python",
   "nbconvert_exporter": "python",
   "pygments_lexer": "ipython3",
   "version": "3.6.7"
  }
 },
 "nbformat": 4,
 "nbformat_minor": 4
}
