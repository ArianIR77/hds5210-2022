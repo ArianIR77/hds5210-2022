{
 "cells": [
  {
   "cell_type": "markdown",
   "metadata": {},
   "source": [
    "# HDS5210-2022 Fall Midterm\n",
    "\n",
    "In the midterm exercise, you're going to use all the programming and data management skills you've developed so far to build a pricing calculator that will calculate how much money should be reimbursed for the visits in a CSV file. To do this, you will need to get allowed amounts (aka rates) from a JSON file, apply some special rules, and then calculate various totals by hospital or by month.\n",
    "\n",
    "Each step of the midterm will build up to form your final solution. Along the way, I've provided plenty of test cases to make sure you're getting each step correct.\n",
    "\n",
    "All functions require docstrings with a description and at least one test case.\n",
    "\n",
    "The midterm is due Monday, October 24th at 11:59 PM CST.\n",
    "\n",
    "---"
   ]
  },
  {
   "cell_type": "markdown",
   "metadata": {},
   "source": [
    "## Step 1: Average Rate\n",
    "\n",
    "With the `/data/negotiated_rates.json` file as input for your first function, read all the `allowed_amount` attributes and calculate an average allowed amount over all rates in the file.\n",
    "\n",
    "Your function should be named **average_rate()**, take the file's name as it's input parameter, and return a float as the result.\n",
    "\n",
    "**ROUND YOUR ANSWER TO 2 DECIMAL PLACES**"
   ]
  },
  {
   "cell_type": "code",
   "execution_count": 1,
   "metadata": {},
   "outputs": [],
   "source": [
    "import json\n",
    "def average_rate(file):\n",
    "    \"\"\"\n",
    "    This function reads all the 'allowed_amout' attributes and calculates an average allowed amount over all rates in the file. \n",
    "    This fucntion takes the file's name as it's input parameter, and return a float as the result.\n",
    "    \n",
    "    >>> average_rate('/data/negotiated_rates.json')\n",
    "    38.67\n",
    "    \n",
    "    \"\"\"\n",
    "    jason_file = json.load(open(file))\n",
    "    total = 0\n",
    "    count=0\n",
    "    avg=0\n",
    "    out_of_network = jason_file.get('out_of_network')\n",
    "    for value in out_of_network:\n",
    "        allowed_amounts = value.get('allowed_amounts')\n",
    "        for amount in allowed_amounts:\n",
    "            payments = amount.get('payments')\n",
    "            total+=payments['allowed_amount']\n",
    "            count +=1\n",
    "            avg = round((total/count),2)\n",
    "    return avg\n",
    "\n"
   ]
  },
  {
   "cell_type": "code",
   "execution_count": 2,
   "metadata": {},
   "outputs": [],
   "source": [
    "assert(average_rate('/data/negotiated_rates.json') == 38.67)"
   ]
  },
  {
   "cell_type": "code",
   "execution_count": 3,
   "metadata": {},
   "outputs": [
    {
     "data": {
      "text/plain": [
       "38.67"
      ]
     },
     "execution_count": 3,
     "metadata": {},
     "output_type": "execute_result"
    }
   ],
   "source": [
    "average_rate('/data/negotiated_rates.json')"
   ]
  },
  {
   "cell_type": "code",
   "execution_count": 4,
   "metadata": {},
   "outputs": [
    {
     "name": "stdout",
     "output_type": "stream",
     "text": [
      "Finding tests in NoName\n",
      "Trying:\n",
      "    average_rate('/data/negotiated_rates.json')\n",
      "Expecting:\n",
      "    38.67\n",
      "ok\n"
     ]
    }
   ],
   "source": [
    "import doctest\n",
    "doctest.run_docstring_examples(average_rate, globals(), verbose=True)"
   ]
  },
  {
   "cell_type": "markdown",
   "metadata": {},
   "source": [
    "---\n",
    "\n",
    "## Step 2: Rate for a Billing Code / Service Code Combination\n",
    "\n",
    "For the next step, we need to be able to look up the allowed amount for any given billing code / service code combination.\n",
    "\n",
    "In this data, the billing code represents the service or procedure that was provided. The service code represents the type of site where the service was provided.\n",
    "\n",
    "Your function should be named **get_rate()** and take three parameters: the JSON file name, the billing code, and the service code. If your code can't find that combination in the file, it should return None."
   ]
  },
  {
   "cell_type": "code",
   "execution_count": 5,
   "metadata": {},
   "outputs": [],
   "source": [
    "import json\n",
    "def get_rate(file, billing_code1, service_code1):\n",
    "    \"\"\"\n",
    "    This function take three parameters: the JSON file name, the billing code, and the service code, and returns \n",
    "    the the allowed amount for any given billing code / service code combination.\n",
    "    \n",
    "    >>> get_rate('/data/negotiated_rates.json','G0283','11')\n",
    "    8.78\n",
    "    \n",
    "    >>> get_rate('/data/negotiated_rates.json','97140','11')\n",
    "    20.03\n",
    "    \"\"\"\n",
    "    jason_file = json.load(open(file))\n",
    "    dic = {}\n",
    "    out_of_network = jason_file.get('out_of_network')\n",
    "    for index, value in enumerate(out_of_network):\n",
    "        billing_code = out_of_network[index]['billing_code']\n",
    "        allowed_amounts = value.get('allowed_amounts')\n",
    "        for amount in allowed_amounts:\n",
    "            service_code = amount.get('service_code')\n",
    "            payments = amount.get('payments')['allowed_amount']\n",
    "            if billing_code not in dic:\n",
    "                dic[billing_code] = []\n",
    "            dic[billing_code].append([service_code,payments])\n",
    "    data = dic.get(billing_code1) #data contains the list of service code and payments for the given key\n",
    "    len_data = len(data) \n",
    "    i = 0\n",
    "    the_allowed_amount= 0 \n",
    "    while i < len_data:\n",
    "        if data[i][0]==service_code1:\n",
    "            the_allowed_amount = data[i][1]\n",
    "        i+=1\n",
    "        \n",
    "    \n",
    "    return the_allowed_amount\n",
    "    "
   ]
  },
  {
   "cell_type": "code",
   "execution_count": 6,
   "metadata": {},
   "outputs": [],
   "source": [
    "assert (get_rate('/data/negotiated_rates.json','G0283','11') == 8.78)\n",
    "assert (get_rate('/data/negotiated_rates.json','97140','11') == 20.03)\n",
    "assert (get_rate('/data/negotiated_rates.json','97110','12') == 26.62)"
   ]
  },
  {
   "cell_type": "code",
   "execution_count": 7,
   "metadata": {},
   "outputs": [
    {
     "name": "stdout",
     "output_type": "stream",
     "text": [
      "Finding tests in NoName\n",
      "Trying:\n",
      "    get_rate('/data/negotiated_rates.json','G0283','11')\n",
      "Expecting:\n",
      "    8.78\n",
      "ok\n",
      "Trying:\n",
      "    get_rate('/data/negotiated_rates.json','97140','11')\n",
      "Expecting:\n",
      "    20.03\n",
      "ok\n"
     ]
    }
   ],
   "source": [
    "doctest.run_docstring_examples(get_rate, globals(), verbose=True)"
   ]
  },
  {
   "cell_type": "code",
   "execution_count": 8,
   "metadata": {},
   "outputs": [
    {
     "data": {
      "text/plain": [
       "32.9"
      ]
     },
     "execution_count": 8,
     "metadata": {},
     "output_type": "execute_result"
    }
   ],
   "source": [
    "get_rate('/data/negotiated_rates.json','97112','11')"
   ]
  },
  {
   "cell_type": "markdown",
   "metadata": {},
   "source": [
    "---\n",
    "\n",
    "## Part 3: Special Rules for Rates\n",
    "\n",
    "There are some special rules for adjusting rates depending on a patient's age and the day of week.  (These are made up. Not from the real world.) In the next part of the midterm, you'll need to create a function that applies these extra rules to a rate and return the adjusted value.\n",
    "\n",
    "1. If the day of week is Monday, charge only 75% of the allowed amount.\n",
    "2. If the patient's age is 65 or higher, charge only 50% of the allowed amount.\n",
    "3. If's both Monday and the patient's age is 65 or higher, charge only 50% of the allowed amount.\n",
    "4. If neither of these conditions are true, charge the whole amount.\n",
    "\n",
    "Your function should be named **get_adjusted_rate()** and take five parameters: file name, billing code, service code, patient age, and visit date.  Your function should return the adjusted rate (based on the rules above) or None if the rate couldn't be found in the file.\n",
    "\n",
    "Note that your function will take a date in the form `%Y-%m-%d` ([see datetime.strptime()](https://docs.python.org/3/library/datetime.html#datetime.datetime.strptime)) and will need to calculate the [day of week](https://docs.python.org/3/library/datetime.html#datetime.date.weekday).\n",
    "\n",
    "**ROUND YOUR ANSWER TO 2 DECIMAL PLACES**"
   ]
  },
  {
   "cell_type": "code",
   "execution_count": 9,
   "metadata": {},
   "outputs": [],
   "source": [
    "from datetime import datetime\n",
    "\n",
    "def get_adjusted_rate(file, billing_code, service_code, pat_age, visit_date):\n",
    "    \"\"\"\n",
    "    This function take five parameters: file name, billing code, service code, patient age, and visit date, and return\n",
    "    the adjusted rate (based on the rules below) or None if the rate couldn't be found in the file.\n",
    "        1. If the day of week is Monday, charge only 75% of the allowed amount.\n",
    "        2. If the patient's age is 65 or higher, charge only 50% of the allowed amount.\n",
    "        3. If's both Monday and the patient's age is 65 or higher, charge only 50% of the allowed amount.\n",
    "        4. If neither of these conditions are true, charge the whole amount.\n",
    "    \n",
    "    >>> get_adjusted_rate('/data/negotiated_rates.json','G0283','11',22,'2022-01-07')\n",
    "    8.78\n",
    "    \n",
    "    >>> get_adjusted_rate('/data/negotiated_rates.json','G0283','11',76,'2022-01-08')\n",
    "    4.39\n",
    "    \n",
    "    \n",
    "    \"\"\"\n",
    "    allowed_amount = get_rate(file, billing_code, service_code)\n",
    "    date = datetime.strptime(visit_date, '%Y-%m-%d')\n",
    "    #Return the day of the week as an integer, where Monday is 0 and Sunday is 6.\n",
    "    day_of_week = date.weekday()\n",
    "    if day_of_week == 0 and pat_age>=65:\n",
    "        allowed_amount = round(allowed_amount*0.50,2)\n",
    "    elif day_of_week ==0:\n",
    "        allowed_amount = round(allowed_amount*0.75,2)\n",
    "    elif pat_age>=65:\n",
    "        allowed_amount = round(allowed_amount*0.50,2)\n",
    "    else:\n",
    "        allowed_amount\n",
    "        \n",
    "        \n",
    "    return allowed_amount\n",
    "    "
   ]
  },
  {
   "cell_type": "code",
   "execution_count": 10,
   "metadata": {},
   "outputs": [],
   "source": [
    "assert (get_adjusted_rate('/data/negotiated_rates.json','G0283','11',22,'2022-01-07') == 8.78)\n",
    "assert (get_adjusted_rate('/data/negotiated_rates.json','G0283','11',22,'2022-01-03') == 6.58)\n",
    "assert (get_adjusted_rate('/data/negotiated_rates.json','G0283','11',76,'2022-01-03') == 4.39)\n",
    "assert (get_adjusted_rate('/data/negotiated_rates.json','G0283','11',76,'2022-01-08') == 4.39)"
   ]
  },
  {
   "cell_type": "code",
   "execution_count": 11,
   "metadata": {},
   "outputs": [
    {
     "name": "stdout",
     "output_type": "stream",
     "text": [
      "Finding tests in NoName\n",
      "Trying:\n",
      "    get_adjusted_rate('/data/negotiated_rates.json','G0283','11',22,'2022-01-07')\n",
      "Expecting:\n",
      "    8.78\n",
      "ok\n",
      "Trying:\n",
      "    get_adjusted_rate('/data/negotiated_rates.json','G0283','11',76,'2022-01-08')\n",
      "Expecting:\n",
      "    4.39\n",
      "ok\n"
     ]
    }
   ],
   "source": [
    "doctest.run_docstring_examples(get_adjusted_rate, globals(), verbose=True)"
   ]
  },
  {
   "cell_type": "markdown",
   "metadata": {},
   "source": [
    "---\n",
    "\n",
    "## Step 4: Calculate total payments for a list of visits\n",
    "\n",
    "Last step, we're going to put your get_adjusted_rate() function to work on a list of visits from a few hospitals in the St. Louis region.\n",
    "\n",
    "Your last function, **summarize_reimbursement()** needs to read an encounter file and the negotiated rates file, compute an adjusted rate for each encounter (row) in the input file, and return two dictionaries of information:\n",
    "1. Total expected reimbursement by month\n",
    "2. Total expected reimbursement by hospital\n",
    "\n",
    "Your should be able to run your function as `by_month, by_hospital = summarize_reimbursement(visits, negotiated_rates)` and have the two answers below:\n",
    "\n",
    "**by_month**\n",
    "```json\n",
    "{\n",
    "    '2021-05': 192.38,\n",
    "    '2021-03': 378.72,\n",
    "    '2021-07': 277.67,\n",
    "    '2021-06': 236.53,\n",
    "    '2021-11': 229.7,\n",
    "    '2021-10': 234.52,\n",
    "    '2021-12': 297.87,\n",
    "    '2021-04': 337.7,\n",
    "    '2021-09': 160.4,\n",
    "    '2021-01': 111.91,\n",
    "    '2021-02': 158.55,\n",
    "    '2021-08': 152.28\n",
    "}\n",
    "```\n",
    "\n",
    "**by_hospital**\n",
    "```json\n",
    "{\n",
    "    'Missouri Baptist': 514.18,\n",
    "    'SSM DePaul': 460.02,\n",
    "    'SLU Hospital': 409.67,\n",
    "    'Barnes Jewish': 485.7,\n",
    "    'Mercy Springfield': 518.59,\n",
    "    'Mercy St. Louis': 380.07\n",
    "}\n",
    "```\n",
    "\n",
    "**Round your totals to 2 decimal places**\n",
    "\n",
    "**If rates are not found, just ignore them**"
   ]
  },
  {
   "cell_type": "code",
   "execution_count": 12,
   "metadata": {},
   "outputs": [],
   "source": [
    "import json\n",
    "import csv\n",
    "from datetime import datetime\n",
    "import csv\n",
    "\n",
    "def summarize_reimbursement(file, file1):\n",
    "    \"\"\"\n",
    "    This function uses 'visits' and 'negotiated_rates' data and returns two dictionaries that shows\n",
    "    total expected reimbursement by month and total expected reimbursement by hospital\n",
    "    \n",
    "    >>> summarize_reimbursement('/data/visits.csv','/data/negotiated_rates.json')[0]['2021-07']\n",
    "    277.67\n",
    "    \n",
    "    >>> summarize_reimbursement('/data/visits.csv','/data/negotiated_rates.json')[0]['2021-03']\n",
    "    378.72\n",
    "    \n",
    "    \n",
    "    \"\"\"\n",
    "    result_hospital = {}\n",
    "    result_month={}\n",
    "    total_byHospital1=0\n",
    "    total_byHospital2=0\n",
    "    total_byHospital3=0\n",
    "    total_byHospital4=0\n",
    "    total_byHospital5=0\n",
    "    total_byHospital6=0\n",
    "    total_byMonth1=0\n",
    "    total_byMonth2=0\n",
    "    total_byMonth3=0\n",
    "    total_byMonth4=0\n",
    "    total_byMonth5=0\n",
    "    total_byMonth6=0\n",
    "    total_byMonth7=0\n",
    "    total_byMonth8=0\n",
    "    total_byMonth9=0\n",
    "    total_byMonth10=0\n",
    "    total_byMonth11=0\n",
    "    total_byMonth12=0\n",
    "    \n",
    "    h_list = ['Missouri Baptist','SSM DePaul','SLU Hospital','Barnes Jewish','Mercy Springfield','Mercy St. Louis']\n",
    "\n",
    "    with open(file) as f:\n",
    "        reader = csv.reader(f, delimiter=',')\n",
    "        for row in reader:\n",
    "            (SYSTEM, HOSPITAL, PATIENT_ID, PATIENT_AGE, BILLING_CODE, SERVICE_CODE, VISIT_DATE) = row\n",
    "            if  HOSPITAL == 'Missouri Baptist':\n",
    "                PATIENT_AGE = int(PATIENT_AGE)\n",
    "                amount=get_adjusted_rate(file1, BILLING_CODE, SERVICE_CODE, PATIENT_AGE, VISIT_DATE)\n",
    "                total_byHospital1+= amount\n",
    "                result_hospital[HOSPITAL] = round(total_byHospital1,2)\n",
    "            if  HOSPITAL == 'SSM DePaul':\n",
    "                PATIENT_AGE = int(PATIENT_AGE)\n",
    "                amount2=get_adjusted_rate(file1, BILLING_CODE, SERVICE_CODE, PATIENT_AGE, VISIT_DATE)\n",
    "                total_byHospital2+= amount2\n",
    "                result_hospital[HOSPITAL] = round(total_byHospital2,2)\n",
    "            if  HOSPITAL == 'SLU Hospital':\n",
    "                PATIENT_AGE = int(PATIENT_AGE)\n",
    "                amount3=get_adjusted_rate(file1, BILLING_CODE, SERVICE_CODE, PATIENT_AGE, VISIT_DATE)\n",
    "                total_byHospital3+= amount3\n",
    "                result_hospital[HOSPITAL] = round(total_byHospital3,2)\n",
    "            if  HOSPITAL == 'Barnes Jewish':\n",
    "                PATIENT_AGE = int(PATIENT_AGE)\n",
    "                amount4=get_adjusted_rate(file1, BILLING_CODE, SERVICE_CODE, PATIENT_AGE, VISIT_DATE)\n",
    "                total_byHospital4+= amount4\n",
    "                result_hospital[HOSPITAL] = round(total_byHospital4,2)\n",
    "            if  HOSPITAL == 'Mercy Springfield':\n",
    "                PATIENT_AGE = int(PATIENT_AGE)\n",
    "                amount5=get_adjusted_rate(file1, BILLING_CODE, SERVICE_CODE, PATIENT_AGE, VISIT_DATE)\n",
    "                total_byHospital5+= amount5\n",
    "                result_hospital[HOSPITAL] = round(total_byHospital5,2)\n",
    "            if  HOSPITAL == 'Mercy St. Louis':\n",
    "                PATIENT_AGE = int(PATIENT_AGE)\n",
    "                amount6=get_adjusted_rate(file1, BILLING_CODE, SERVICE_CODE, PATIENT_AGE, VISIT_DATE)\n",
    "                total_byHospital6+= amount6\n",
    "                result_hospital[HOSPITAL] = round(total_byHospital6,2)\n",
    "                \n",
    "                \n",
    "                \n",
    "            if  VISIT_DATE[:-3] == '2021-05':\n",
    "                PATIENT_AGE = int(PATIENT_AGE)\n",
    "                amount7=get_adjusted_rate(file1, BILLING_CODE, SERVICE_CODE, PATIENT_AGE, VISIT_DATE)\n",
    "                total_byMonth1+= amount7\n",
    "                result_month[VISIT_DATE[:-3]] = round(total_byMonth1,2)\n",
    "            if  VISIT_DATE[:-3] == '2021-03':\n",
    "                PATIENT_AGE = int(PATIENT_AGE)\n",
    "                amount8=get_adjusted_rate(file1, BILLING_CODE, SERVICE_CODE, PATIENT_AGE, VISIT_DATE)\n",
    "                total_byMonth2+= amount8\n",
    "                result_month[VISIT_DATE[:-3]] = round(total_byMonth2,2)\n",
    "            if  VISIT_DATE[:-3] == '2021-07':\n",
    "                PATIENT_AGE = int(PATIENT_AGE)\n",
    "                amount9=get_adjusted_rate(file1, BILLING_CODE, SERVICE_CODE, PATIENT_AGE, VISIT_DATE)\n",
    "                total_byMonth3+= amount9\n",
    "                result_month[VISIT_DATE[:-3]] = round(total_byMonth3,2)\n",
    "            if  VISIT_DATE[:-3] == '2021-06':\n",
    "                PATIENT_AGE = int(PATIENT_AGE)\n",
    "                amount10=get_adjusted_rate(file1, BILLING_CODE, SERVICE_CODE, PATIENT_AGE, VISIT_DATE)\n",
    "                total_byMonth4+= amount10\n",
    "                result_month[VISIT_DATE[:-3]] = round(total_byMonth4,2)\n",
    "            if  VISIT_DATE[:-3] == '2021-11':\n",
    "                PATIENT_AGE = int(PATIENT_AGE)\n",
    "                amount11=get_adjusted_rate(file1, BILLING_CODE, SERVICE_CODE, PATIENT_AGE, VISIT_DATE)\n",
    "                total_byMonth5+= amount11\n",
    "                result_month[VISIT_DATE[:-3]] = round(total_byMonth5,2)\n",
    "            if  VISIT_DATE[:-3] == '2021-10':\n",
    "                PATIENT_AGE = int(PATIENT_AGE)\n",
    "                amount12=get_adjusted_rate(file1, BILLING_CODE, SERVICE_CODE, PATIENT_AGE, VISIT_DATE)\n",
    "                total_byMonth6+= amount12\n",
    "                result_month[VISIT_DATE[:-3]] = round(total_byMonth6,2)\n",
    "            if  VISIT_DATE[:-3] == '2021-12':\n",
    "                PATIENT_AGE = int(PATIENT_AGE)\n",
    "                amount13=get_adjusted_rate(file1, BILLING_CODE, SERVICE_CODE, PATIENT_AGE, VISIT_DATE)\n",
    "                total_byMonth7+= amount13\n",
    "                result_month[VISIT_DATE[:-3]] = round(total_byMonth7,2)\n",
    "            if  VISIT_DATE[:-3] == '2021-04':\n",
    "                PATIENT_AGE = int(PATIENT_AGE)\n",
    "                amount14=get_adjusted_rate(file1, BILLING_CODE, SERVICE_CODE, PATIENT_AGE, VISIT_DATE)\n",
    "                total_byMonth8+= amount14\n",
    "                result_month[VISIT_DATE[:-3]] = round(total_byMonth8,2)\n",
    "            if  VISIT_DATE[:-3] == '2021-09':\n",
    "                PATIENT_AGE = int(PATIENT_AGE)\n",
    "                amount15=get_adjusted_rate(file1, BILLING_CODE, SERVICE_CODE, PATIENT_AGE, VISIT_DATE)\n",
    "                total_byMonth9+= amount15\n",
    "                result_month[VISIT_DATE[:-3]] = round(total_byMonth9,2)\n",
    "            if  VISIT_DATE[:-3] == '2021-01':\n",
    "                PATIENT_AGE = int(PATIENT_AGE)\n",
    "                amount16=get_adjusted_rate(file1, BILLING_CODE, SERVICE_CODE, PATIENT_AGE, VISIT_DATE)\n",
    "                total_byMonth10+= amount16\n",
    "                result_month[VISIT_DATE[:-3]] = round(total_byMonth10,2)\n",
    "            if  VISIT_DATE[:-3] == '2021-02':\n",
    "                PATIENT_AGE = int(PATIENT_AGE)\n",
    "                amount17=get_adjusted_rate(file1, BILLING_CODE, SERVICE_CODE, PATIENT_AGE, VISIT_DATE)\n",
    "                total_byMonth11+= amount17\n",
    "                result_month[VISIT_DATE[:-3]] = round(total_byMonth11,2)\n",
    "            if  VISIT_DATE[:-3] == '2021-08':\n",
    "                PATIENT_AGE = int(PATIENT_AGE)\n",
    "                amount18=get_adjusted_rate(file1, BILLING_CODE, SERVICE_CODE, PATIENT_AGE, VISIT_DATE)\n",
    "                total_byMonth12+= amount18\n",
    "                result_month[VISIT_DATE[:-3]] = round(total_byMonth12,2)\n",
    "        \n",
    "          \n",
    "            \n",
    "             \n",
    "                \n",
    "            \n",
    "    return result_month, result_hospital"
   ]
  },
  {
   "cell_type": "code",
   "execution_count": 13,
   "metadata": {},
   "outputs": [
    {
     "data": {
      "text/plain": [
       "({'2021-05': 192.38,\n",
       "  '2021-03': 378.72,\n",
       "  '2021-07': 277.67,\n",
       "  '2021-06': 236.53,\n",
       "  '2021-11': 229.7,\n",
       "  '2021-10': 234.52,\n",
       "  '2021-12': 297.87,\n",
       "  '2021-04': 337.7,\n",
       "  '2021-09': 160.4,\n",
       "  '2021-02': 158.55,\n",
       "  '2021-01': 111.91,\n",
       "  '2021-08': 152.28},\n",
       " {'Missouri Baptist': 514.18,\n",
       "  'SSM DePaul': 460.02,\n",
       "  'SLU Hospital': 409.67,\n",
       "  'Mercy St. Louis': 380.07,\n",
       "  'Barnes Jewish': 485.7,\n",
       "  'Mercy Springfield': 518.59})"
      ]
     },
     "execution_count": 13,
     "metadata": {},
     "output_type": "execute_result"
    }
   ],
   "source": [
    "summarize_reimbursement('/data/visits.csv','/data/negotiated_rates.json')"
   ]
  },
  {
   "cell_type": "code",
   "execution_count": 14,
   "metadata": {},
   "outputs": [],
   "source": [
    "assert (summarize_reimbursement('/data/visits.csv','/data/negotiated_rates.json')[0]['2021-07'] == 277.67)\n",
    "assert (summarize_reimbursement('/data/visits.csv','/data/negotiated_rates.json')[0]['2021-03'] == 378.72)\n",
    "assert (summarize_reimbursement('/data/visits.csv','/data/negotiated_rates.json')[1]['Mercy St. Louis'] == 380.07)\n",
    "assert (summarize_reimbursement('/data/visits.csv','/data/negotiated_rates.json')[1]['Mercy Springfield'] == 518.59)"
   ]
  },
  {
   "cell_type": "code",
   "execution_count": 15,
   "metadata": {},
   "outputs": [
    {
     "data": {
      "text/plain": [
       "277.67"
      ]
     },
     "execution_count": 15,
     "metadata": {},
     "output_type": "execute_result"
    }
   ],
   "source": [
    "summarize_reimbursement('/data/visits.csv','/data/negotiated_rates.json')[0]['2021-07']"
   ]
  },
  {
   "cell_type": "code",
   "execution_count": 16,
   "metadata": {},
   "outputs": [
    {
     "name": "stdout",
     "output_type": "stream",
     "text": [
      "Finding tests in NoName\n",
      "Trying:\n",
      "    summarize_reimbursement('/data/visits.csv','/data/negotiated_rates.json')[0]['2021-07']\n",
      "Expecting:\n",
      "    277.67\n",
      "ok\n",
      "Trying:\n",
      "    summarize_reimbursement('/data/visits.csv','/data/negotiated_rates.json')[0]['2021-03']\n",
      "Expecting:\n",
      "    378.72\n",
      "ok\n"
     ]
    }
   ],
   "source": [
    "doctest.run_docstring_examples(summarize_reimbursement, globals(), verbose=True)"
   ]
  },
  {
   "cell_type": "code",
   "execution_count": null,
   "metadata": {},
   "outputs": [],
   "source": []
  }
 ],
 "metadata": {
  "kernelspec": {
   "display_name": "Python 3",
   "language": "python",
   "name": "python3"
  },
  "language_info": {
   "codemirror_mode": {
    "name": "ipython",
    "version": 3
   },
   "file_extension": ".py",
   "mimetype": "text/x-python",
   "name": "python",
   "nbconvert_exporter": "python",
   "pygments_lexer": "ipython3",
   "version": "3.6.7"
  }
 },
 "nbformat": 4,
 "nbformat_minor": 4
}
